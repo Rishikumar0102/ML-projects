{
 "cells": [
  {
   "cell_type": "code",
   "execution_count": 1,
   "id": "638ff10a-d789-4468-ab9c-d655e8838b97",
   "metadata": {},
   "outputs": [
    {
     "data": {
      "text/html": [
       "<div>\n",
       "<style scoped>\n",
       "    .dataframe tbody tr th:only-of-type {\n",
       "        vertical-align: middle;\n",
       "    }\n",
       "\n",
       "    .dataframe tbody tr th {\n",
       "        vertical-align: top;\n",
       "    }\n",
       "\n",
       "    .dataframe thead th {\n",
       "        text-align: right;\n",
       "    }\n",
       "</style>\n",
       "<table border=\"1\" class=\"dataframe\">\n",
       "  <thead>\n",
       "    <tr style=\"text-align: right;\">\n",
       "      <th></th>\n",
       "      <th>S.NO</th>\n",
       "      <th>name</th>\n",
       "      <th>mark1</th>\n",
       "      <th>dep</th>\n",
       "      <th>year</th>\n",
       "      <th>id</th>\n",
       "      <th>area</th>\n",
       "    </tr>\n",
       "  </thead>\n",
       "  <tbody>\n",
       "    <tr>\n",
       "      <th>0</th>\n",
       "      <td>1</td>\n",
       "      <td>G VAISHNAVI</td>\n",
       "      <td>55</td>\n",
       "      <td>ECE</td>\n",
       "      <td>III</td>\n",
       "      <td>vaishugopal464@gmail.com</td>\n",
       "      <td>89.0</td>\n",
       "    </tr>\n",
       "    <tr>\n",
       "      <th>1</th>\n",
       "      <td>2</td>\n",
       "      <td>DEENA A</td>\n",
       "      <td>65</td>\n",
       "      <td>ECE</td>\n",
       "      <td>III</td>\n",
       "      <td>salemdeena3@gmail.com</td>\n",
       "      <td>25.0</td>\n",
       "    </tr>\n",
       "    <tr>\n",
       "      <th>2</th>\n",
       "      <td>3</td>\n",
       "      <td>S AVANTHIKA</td>\n",
       "      <td>23</td>\n",
       "      <td>ECE</td>\n",
       "      <td>II</td>\n",
       "      <td>avanthiselvarasu@gmail.com</td>\n",
       "      <td>NaN</td>\n",
       "    </tr>\n",
       "    <tr>\n",
       "      <th>3</th>\n",
       "      <td>4</td>\n",
       "      <td>MOGANAPRIYA S E</td>\n",
       "      <td>54</td>\n",
       "      <td>AIDS</td>\n",
       "      <td>III</td>\n",
       "      <td>moganapriya1409@gmail.com</td>\n",
       "      <td>NaN</td>\n",
       "    </tr>\n",
       "    <tr>\n",
       "      <th>4</th>\n",
       "      <td>5</td>\n",
       "      <td>K KANNAN</td>\n",
       "      <td>25</td>\n",
       "      <td>ECE</td>\n",
       "      <td>III</td>\n",
       "      <td>kannank11032004@gmail.com</td>\n",
       "      <td>25.0</td>\n",
       "    </tr>\n",
       "  </tbody>\n",
       "</table>\n",
       "</div>"
      ],
      "text/plain": [
       "   S.NO             name  mark1   dep year                          id  area\n",
       "0     1      G VAISHNAVI     55   ECE  III    vaishugopal464@gmail.com  89.0\n",
       "1     2          DEENA A     65   ECE  III       salemdeena3@gmail.com  25.0\n",
       "2     3      S AVANTHIKA     23   ECE   II  avanthiselvarasu@gmail.com   NaN\n",
       "3     4  MOGANAPRIYA S E     54  AIDS  III   moganapriya1409@gmail.com   NaN\n",
       "4     5         K KANNAN     25   ECE  III   kannank11032004@gmail.com  25.0"
      ]
     },
     "execution_count": 1,
     "metadata": {},
     "output_type": "execute_result"
    }
   ],
   "source": [
    "import pandas as pd\n",
    "\n",
    "df = pd.read_csv(\"id.csv\")\n",
    "df.head()\n"
   ]
  },
  {
   "cell_type": "code",
   "execution_count": 2,
   "id": "3512e41e-acc6-45d5-9b96-9a6ff8388fdf",
   "metadata": {},
   "outputs": [
    {
     "data": {
      "text/html": [
       "<div>\n",
       "<style scoped>\n",
       "    .dataframe tbody tr th:only-of-type {\n",
       "        vertical-align: middle;\n",
       "    }\n",
       "\n",
       "    .dataframe tbody tr th {\n",
       "        vertical-align: top;\n",
       "    }\n",
       "\n",
       "    .dataframe thead th {\n",
       "        text-align: right;\n",
       "    }\n",
       "</style>\n",
       "<table border=\"1\" class=\"dataframe\">\n",
       "  <thead>\n",
       "    <tr style=\"text-align: right;\">\n",
       "      <th></th>\n",
       "      <th>S.NO</th>\n",
       "      <th>name</th>\n",
       "      <th>mark1</th>\n",
       "      <th>dep</th>\n",
       "      <th>year</th>\n",
       "      <th>id</th>\n",
       "      <th>area</th>\n",
       "    </tr>\n",
       "  </thead>\n",
       "  <tbody>\n",
       "    <tr>\n",
       "      <th>14</th>\n",
       "      <td>15</td>\n",
       "      <td>M M AARYAN SRINIVAS</td>\n",
       "      <td>15</td>\n",
       "      <td>CYBER</td>\n",
       "      <td>II</td>\n",
       "      <td>aaryansrinivas16@gmail.com</td>\n",
       "      <td>NaN</td>\n",
       "    </tr>\n",
       "    <tr>\n",
       "      <th>15</th>\n",
       "      <td>16</td>\n",
       "      <td>K MANO SANJAY</td>\n",
       "      <td>65</td>\n",
       "      <td>CYBER</td>\n",
       "      <td>II</td>\n",
       "      <td>manosanjay11@gmail.com</td>\n",
       "      <td>NaN</td>\n",
       "    </tr>\n",
       "    <tr>\n",
       "      <th>16</th>\n",
       "      <td>17</td>\n",
       "      <td>VIGNESH P</td>\n",
       "      <td>48</td>\n",
       "      <td>AIDS</td>\n",
       "      <td>II</td>\n",
       "      <td>vickyv6519@gmail.com</td>\n",
       "      <td>NaN</td>\n",
       "    </tr>\n",
       "    <tr>\n",
       "      <th>17</th>\n",
       "      <td>18</td>\n",
       "      <td>MOHANRAJ K</td>\n",
       "      <td>48</td>\n",
       "      <td>AIDS</td>\n",
       "      <td>II</td>\n",
       "      <td>kmohanrajkumark@gmail.com</td>\n",
       "      <td>NaN</td>\n",
       "    </tr>\n",
       "    <tr>\n",
       "      <th>18</th>\n",
       "      <td>19</td>\n",
       "      <td>KARTHIKEYAN G</td>\n",
       "      <td>48</td>\n",
       "      <td>AIDS</td>\n",
       "      <td>II</td>\n",
       "      <td>gokulkarthikeyan35@gmail.com</td>\n",
       "      <td>NaN</td>\n",
       "    </tr>\n",
       "  </tbody>\n",
       "</table>\n",
       "</div>"
      ],
      "text/plain": [
       "    S.NO                 name  mark1    dep year  \\\n",
       "14    15  M M AARYAN SRINIVAS     15  CYBER   II   \n",
       "15    16        K MANO SANJAY     65  CYBER   II   \n",
       "16    17           VIGNESH P      48   AIDS   II   \n",
       "17    18           MOHANRAJ K     48   AIDS   II   \n",
       "18    19        KARTHIKEYAN G     48   AIDS   II   \n",
       "\n",
       "                              id  area  \n",
       "14    aaryansrinivas16@gmail.com   NaN  \n",
       "15        manosanjay11@gmail.com   NaN  \n",
       "16          vickyv6519@gmail.com   NaN  \n",
       "17     kmohanrajkumark@gmail.com   NaN  \n",
       "18  gokulkarthikeyan35@gmail.com   NaN  "
      ]
     },
     "execution_count": 2,
     "metadata": {},
     "output_type": "execute_result"
    }
   ],
   "source": [
    "df.tail()"
   ]
  },
  {
   "cell_type": "code",
   "execution_count": null,
   "id": "a24e24c0-111e-43bf-ae40-2e9d4b077ff9",
   "metadata": {},
   "outputs": [],
   "source": []
  },
  {
   "cell_type": "code",
   "execution_count": 3,
   "id": "f851467f-8e49-4dd1-b162-d85da1b479d4",
   "metadata": {},
   "outputs": [
    {
     "name": "stdout",
     "output_type": "stream",
     "text": [
      "    S.NO                 name  mark1    dep year  \\\n",
      "0      1          G VAISHNAVI     55    ECE  III   \n",
      "1      2              DEENA A     65    ECE  III   \n",
      "2      3          S AVANTHIKA     23    ECE   II   \n",
      "3      4      MOGANAPRIYA S E     54   AIDS  III   \n",
      "4      5             K KANNAN     25    ECE  III   \n",
      "5      6            SRINATH R     55   AIDS  III   \n",
      "6      7             GEETHA R     87    MCA    I   \n",
      "7      8    SREEYAKESHRAJAN T     98  CYBER   II   \n",
      "8      9         MENAGADEVI S     99   AIDS   II   \n",
      "9     10     ABHISHEK ANAND J     55   AIDS   II   \n",
      "10    11            FATHIMA A     44   AIDS   II   \n",
      "11    12            DHANUSH E     77   AIDS   II   \n",
      "12    13      RITHICKROSHAN S     55  CYBER  III   \n",
      "13    14            GANESAN S     22   AIDS   II   \n",
      "14    15  M M AARYAN SRINIVAS     15  CYBER   II   \n",
      "15    16        K MANO SANJAY     65  CYBER   II   \n",
      "16    17           VIGNESH P      48   AIDS   II   \n",
      "17    18           MOHANRAJ K     48   AIDS   II   \n",
      "18    19        KARTHIKEYAN G     48   AIDS   II   \n",
      "\n",
      "                              id       area  \n",
      "0       vaishugopal464@gmail.com  89.000000  \n",
      "1          salemdeena3@gmail.com  25.000000  \n",
      "2     avanthiselvarasu@gmail.com  46.166667  \n",
      "3      moganapriya1409@gmail.com  46.166667  \n",
      "4      kannank11032004@gmail.com  25.000000  \n",
      "5           srinath25k@gmail.com  28.000000  \n",
      "6   geetharamesh435128@gmail.com  46.166667  \n",
      "7          sreet00511@gmail.com   46.166667  \n",
      "8       smenagadevi081@gmail.com  65.000000  \n",
      "9       abhishek261620@gmail.com  46.166667  \n",
      "10      fathimaakbar05@gmail.com  45.000000  \n",
      "11   dhanushelango1400@gmail.com  46.166667  \n",
      "12   rithickroshan7887@gmail.com  46.166667  \n",
      "13         ganeshad482@gmail.com  46.166667  \n",
      "14    aaryansrinivas16@gmail.com  46.166667  \n",
      "15        manosanjay11@gmail.com  46.166667  \n",
      "16          vickyv6519@gmail.com  46.166667  \n",
      "17     kmohanrajkumark@gmail.com  46.166667  \n",
      "18  gokulkarthikeyan35@gmail.com  46.166667  \n"
     ]
    },
    {
     "name": "stderr",
     "output_type": "stream",
     "text": [
      "C:\\Users\\student\\AppData\\Local\\Temp\\ipykernel_2132\\2068181483.py:1: FutureWarning: A value is trying to be set on a copy of a DataFrame or Series through chained assignment using an inplace method.\n",
      "The behavior will change in pandas 3.0. This inplace method will never work because the intermediate object on which we are setting values always behaves as a copy.\n",
      "\n",
      "For example, when doing 'df[col].method(value, inplace=True)', try using 'df.method({col: value}, inplace=True)' or df[col] = df[col].method(value) instead, to perform the operation inplace on the original object.\n",
      "\n",
      "\n",
      "  df['area'].fillna(df['area'].mean(),inplace=True)\n"
     ]
    }
   ],
   "source": [
    "df['area'].fillna(df['area'].mean(),inplace=True)\n",
    "print(df)"
   ]
  },
  {
   "cell_type": "code",
   "execution_count": 4,
   "id": "7aa91af2-e38c-4c6f-b245-ff98963e3007",
   "metadata": {},
   "outputs": [
    {
     "name": "stdout",
     "output_type": "stream",
     "text": [
      "<class 'pandas.core.frame.DataFrame'>\n",
      "RangeIndex: 19 entries, 0 to 18\n",
      "Data columns (total 7 columns):\n",
      " #   Column  Non-Null Count  Dtype  \n",
      "---  ------  --------------  -----  \n",
      " 0   S.NO    19 non-null     int64  \n",
      " 1   name    19 non-null     object \n",
      " 2   mark1   19 non-null     int64  \n",
      " 3   dep     19 non-null     object \n",
      " 4   year    19 non-null     object \n",
      " 5   id      19 non-null     object \n",
      " 6   area    19 non-null     float64\n",
      "dtypes: float64(1), int64(2), object(4)\n",
      "memory usage: 1.2+ KB\n"
     ]
    }
   ],
   "source": [
    "#mean=df['mark'].mode()\n",
    "#0print(mean)\n",
    "df.info()"
   ]
  },
  {
   "cell_type": "code",
   "execution_count": 5,
   "id": "dc8ac8dc-1a7d-4fcb-9296-5e31a6d8a9df",
   "metadata": {},
   "outputs": [
    {
     "data": {
      "text/plain": [
       "np.int64(0)"
      ]
     },
     "execution_count": 5,
     "metadata": {},
     "output_type": "execute_result"
    }
   ],
   "source": [
    "df.duplicated().sum()"
   ]
  },
  {
   "cell_type": "code",
   "execution_count": 6,
   "id": "1b250d32-852e-4486-b468-bb95ee58d2c3",
   "metadata": {},
   "outputs": [
    {
     "name": "stdout",
     "output_type": "stream",
     "text": [
      "54.63157894736842\n",
      "<class 'pandas.core.series.Series'>\n",
      "RangeIndex: 19 entries, 0 to 18\n",
      "Series name: mark1\n",
      "Non-Null Count  Dtype\n",
      "--------------  -----\n",
      "19 non-null     int64\n",
      "dtypes: int64(1)\n",
      "memory usage: 280.0 bytes\n"
     ]
    }
   ],
   "source": [
    "var=df['mark1'].mean()\n",
    "print(var)\n",
    "var1=df['mark1'].info()"
   ]
  },
  {
   "cell_type": "code",
   "execution_count": 7,
   "id": "225a7b4a-0ab0-4524-8f7a-776cc2fcbc51",
   "metadata": {},
   "outputs": [
    {
     "data": {
      "image/png": "[encoded data removed]",
      "text/plain": [
       "<Figure size 640x480 with 1 Axes>"
      ]
     },
     "metadata": {},
     "output_type": "display_data"
    }
   ],
   "source": [
    "import matplotlib.pyplot as plt\n",
    "plt.hist(df[\"mark1\"], bins=10, color='blue', edgecolor='black')\n",
    "plt.xlabel(\"mark!\")\n",
    "plt.ylabel(\"Frequency\")\n",
    "plt.title(\"Salary Distribution\")\n",
    "plt.show()\n",
    "\n"
   ]
  },
  {
   "cell_type": "code",
   "execution_count": 14,
   "id": "cce70013-4365-4f77-95a2-35075bb88d27",
   "metadata": {},
   "outputs": [
    {
     "name": "stdout",
     "output_type": "stream",
     "text": [
      "            mark1        area\n",
      "mark1  576.245614   70.268519\n",
      "area    70.268519  189.824074\n"
     ]
    }
   ],
   "source": [
    "cov=df[['mark1','area']].cov() # it used to show how the data are changes\n",
    "print(cov)"
   ]
  },
  {
   "cell_type": "code",
   "execution_count": 9,
   "id": "79eb866d-5d2d-4522-91bf-f91a856f2152",
   "metadata": {},
   "outputs": [
    {
     "name": "stdout",
     "output_type": "stream",
     "text": [
      "          mark1      area\n",
      "mark1  1.000000  0.212462\n",
      "area   0.212462  1.000000\n"
     ]
    }
   ],
   "source": [
    "cor=df[['mark1','area']].corr() #show what are relation ship between two variable\n",
    "print(cor)\n",
    "    "
   ]
  },
  {
   "cell_type": "code",
   "execution_count": 10,
   "id": "d61eb774-98ec-4ce0-bef4-cfe51c3c8173",
   "metadata": {},
   "outputs": [
    {
     "name": "stdout",
     "output_type": "stream",
     "text": [
      "          mark1      area\n",
      "mark1  1.000000  0.212462\n",
      "area   0.212462  1.000000\n"
     ]
    }
   ],
   "source": [
    "person=df[['mark1','area']].corr(method='pearson') #Pearson correlation measures how strongly two variables are related linearly. It assumes a normal distribution of data.\n",
    "print(cor)"
   ]
  },
  {
   "cell_type": "code",
   "execution_count": 11,
   "id": "8b05083a-801a-4669-9e0d-97f25a9949e6",
   "metadata": {},
   "outputs": [
    {
     "name": "stdout",
     "output_type": "stream",
     "text": [
      "          mark1      area\n",
      "mark1  1.000000  0.212462\n",
      "area   0.212462  1.000000\n"
     ]
    }
   ],
   "source": [
    "spearman=df[['mark1','area']].corr(method='spearman') #Spearman correlation measures the monotonic relationship between two variables (not necessarily linear). It is based on rank order, \n",
    "#meaning it works well when data increases or decreases in a consistent direction but may not be linear.\n",
    "print(cor)"
   ]
  },
  {
   "cell_type": "code",
   "execution_count": 12,
   "id": "57af6879-f757-42f4-89f1-638d607b3638",
   "metadata": {},
   "outputs": [
    {
     "name": "stdout",
     "output_type": "stream",
     "text": [
      "          mark1      area\n",
      "mark1  1.000000  0.212462\n",
      "area   0.212462  1.000000\n"
     ]
    }
   ],
   "source": [
    "kendall=df[['mark1','area']].corr(method='kendall') #Kendall correlation is used for ordinal (rank-based) data. It measures how consistently two variables maintain their relative ranking.\n",
    "print(cor)"
   ]
  },
  {
   "cell_type": "code",
   "execution_count": 15,
   "id": "221803d8-9b97-463b-bf20-9aab643b91b4",
   "metadata": {},
   "outputs": [
    {
     "data": {
      "image/png": "[encoded data removed]",
      "text/plain": [
       "<Figure size 640x480 with 1 Axes>"
      ]
     },
     "metadata": {},
     "output_type": "display_data"
    }
   ],
   "source": [
    "import seaborn as sns\n",
    "import matplotlib.pyplot as plt\n",
    "\n",
    "sns.boxplot(x=df['mark1'])\n",
    "plt.title(\"Box Plot for Outlier Detection\")\n",
    "plt.show()"
   ]
  },
  {
   "cell_type": "code",
   "execution_count": 16,
   "id": "50be94a4-e1d9-4abc-baf4-ad30b55881ff",
   "metadata": {},
   "outputs": [
    {
     "data": {
      "image/png": "[encoded data removed]",
      "text/plain": [
       "<Figure size 640x480 with 1 Axes>"
      ]
     },
     "metadata": {},
     "output_type": "display_data"
    }
   ],
   "source": [
    "import seaborn as sns\n",
    "import matplotlib.pyplot as plt\n",
    "\n",
    "sns.boxplot(x=df['area'])\n",
    "plt.title(\"Box Plot for Outlier Detection\")\n",
    "plt.show()"
   ]
  },
  {
   "cell_type": "code",
   "execution_count": 17,
   "id": "9ee4b492-b096-4978-9a35-03f36c9947dc",
   "metadata": {},
   "outputs": [
    {
     "name": "stdout",
     "output_type": "stream",
     "text": [
      "0     0.015348\n",
      "1     0.431925\n",
      "2    -1.317702\n",
      "3    -0.026310\n",
      "4    -1.234386\n",
      "5     0.015348\n",
      "6     1.348397\n",
      "7     1.806632\n",
      "8     1.848290\n",
      "9     0.015348\n",
      "10   -0.442888\n",
      "11    0.931819\n",
      "12    0.015348\n",
      "13   -1.359359\n",
      "14   -1.650964\n",
      "15    0.431925\n",
      "16   -0.276257\n",
      "17   -0.276257\n",
      "18   -0.276257\n",
      "Name: mark1, dtype: float64\n"
     ]
    }
   ],
   "source": [
    "import numpy as np\n",
    "mean1=df['mark1'].mean()  \n",
    "std=df['mark1'].std()\n",
    "score=(df['mark1']-mean1)/ std  # zscores to detect the outlier\n",
    "print(score)"
   ]
  },
  {
   "cell_type": "code",
   "execution_count": 20,
   "id": "69f7de94-f968-4e8b-a2ae-5a87fc7a7956",
   "metadata": {},
   "outputs": [
    {
     "name": "stdout",
     "output_type": "stream",
     "text": [
      "19.0\n"
     ]
    }
   ],
   "source": [
    "q1=df['mark1'].quantile(0.25)\n",
    "\n",
    "q2=df['mark1'].quantile(0.75)\n",
    "iqr=q2-q1\n",
    "print(iqr)"
   ]
  },
  {
   "cell_type": "code",
   "execution_count": null,
   "id": "9b5dda21-6919-4bd8-b4c6-4eb7a93d2952",
   "metadata": {},
   "outputs": [],
   "source": [
    "\n",
    "\n"
   ]
  }
 ],
 "metadata": {
  "kernelspec": {
   "display_name": "Python 3 (ipykernel)",
   "language": "python",
   "name": "python3"
  },
  "language_info": {
   "codemirror_mode": {
    "name": "ipython",
    "version": 3
   },
   "file_extension": ".py",
   "mimetype": "text/x-python",
   "name": "python",
   "nbconvert_exporter": "python",
   "pygments_lexer": "ipython3",
   "version": "3.10.10"
  }
 },
 "nbformat": 4,
 "nbformat_minor": 5
}
