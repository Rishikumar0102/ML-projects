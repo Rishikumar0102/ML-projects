{
 "cells": [
  {
   "cell_type": "code",
   "execution_count": 1,
   "id": "9936d0ce-58d1-4287-b652-4f39272b5f12",
   "metadata": {},
   "outputs": [
    {
     "data": {
      "text/html": [
       "<div>\n",
       "<style scoped>\n",
       "    .dataframe tbody tr th:only-of-type {\n",
       "        vertical-align: middle;\n",
       "    }\n",
       "\n",
       "    .dataframe tbody tr th {\n",
       "        vertical-align: top;\n",
       "    }\n",
       "\n",
       "    .dataframe thead th {\n",
       "        text-align: right;\n",
       "    }\n",
       "</style>\n",
       "<table border=\"1\" class=\"dataframe\">\n",
       "  <thead>\n",
       "    <tr style=\"text-align: right;\">\n",
       "      <th></th>\n",
       "      <th>CustomerID</th>\n",
       "      <th>gender</th>\n",
       "      <th>age</th>\n",
       "      <th>income</th>\n",
       "      <th>score</th>\n",
       "    </tr>\n",
       "  </thead>\n",
       "  <tbody>\n",
       "    <tr>\n",
       "      <th>0</th>\n",
       "      <td>1.0</td>\n",
       "      <td>Male</td>\n",
       "      <td>19.0</td>\n",
       "      <td>15.0</td>\n",
       "      <td>39.0</td>\n",
       "    </tr>\n",
       "    <tr>\n",
       "      <th>1</th>\n",
       "      <td>2.0</td>\n",
       "      <td>Male</td>\n",
       "      <td>21.0</td>\n",
       "      <td>15.0</td>\n",
       "      <td>81.0</td>\n",
       "    </tr>\n",
       "    <tr>\n",
       "      <th>2</th>\n",
       "      <td>3.0</td>\n",
       "      <td>Female</td>\n",
       "      <td>20.0</td>\n",
       "      <td>16.0</td>\n",
       "      <td>6.0</td>\n",
       "    </tr>\n",
       "    <tr>\n",
       "      <th>3</th>\n",
       "      <td>NaN</td>\n",
       "      <td>Female</td>\n",
       "      <td>23.0</td>\n",
       "      <td>16.0</td>\n",
       "      <td>NaN</td>\n",
       "    </tr>\n",
       "    <tr>\n",
       "      <th>4</th>\n",
       "      <td>5.0</td>\n",
       "      <td>Female</td>\n",
       "      <td>31.0</td>\n",
       "      <td>17.0</td>\n",
       "      <td>40.0</td>\n",
       "    </tr>\n",
       "    <tr>\n",
       "      <th>5</th>\n",
       "      <td>6.0</td>\n",
       "      <td>Female</td>\n",
       "      <td>NaN</td>\n",
       "      <td>17.0</td>\n",
       "      <td>76.0</td>\n",
       "    </tr>\n",
       "    <tr>\n",
       "      <th>6</th>\n",
       "      <td>7.0</td>\n",
       "      <td>Female</td>\n",
       "      <td>35.0</td>\n",
       "      <td>18.0</td>\n",
       "      <td>6.0</td>\n",
       "    </tr>\n",
       "    <tr>\n",
       "      <th>7</th>\n",
       "      <td>8.0</td>\n",
       "      <td>Female</td>\n",
       "      <td>23.0</td>\n",
       "      <td>18.0</td>\n",
       "      <td>94.0</td>\n",
       "    </tr>\n",
       "    <tr>\n",
       "      <th>8</th>\n",
       "      <td>9.0</td>\n",
       "      <td>Male</td>\n",
       "      <td>64.0</td>\n",
       "      <td>NaN</td>\n",
       "      <td>3.0</td>\n",
       "    </tr>\n",
       "    <tr>\n",
       "      <th>9</th>\n",
       "      <td>10.0</td>\n",
       "      <td>Female</td>\n",
       "      <td>30.0</td>\n",
       "      <td>19.0</td>\n",
       "      <td>72.0</td>\n",
       "    </tr>\n",
       "    <tr>\n",
       "      <th>10</th>\n",
       "      <td>11.0</td>\n",
       "      <td>Male</td>\n",
       "      <td>67.0</td>\n",
       "      <td>19.0</td>\n",
       "      <td>14.0</td>\n",
       "    </tr>\n",
       "    <tr>\n",
       "      <th>11</th>\n",
       "      <td>12.0</td>\n",
       "      <td>Female</td>\n",
       "      <td>35.0</td>\n",
       "      <td>19.0</td>\n",
       "      <td>99.0</td>\n",
       "    </tr>\n",
       "    <tr>\n",
       "      <th>12</th>\n",
       "      <td>NaN</td>\n",
       "      <td>Female</td>\n",
       "      <td>NaN</td>\n",
       "      <td>20.0</td>\n",
       "      <td>NaN</td>\n",
       "    </tr>\n",
       "    <tr>\n",
       "      <th>13</th>\n",
       "      <td>14.0</td>\n",
       "      <td>Female</td>\n",
       "      <td>24.0</td>\n",
       "      <td>NaN</td>\n",
       "      <td>77.0</td>\n",
       "    </tr>\n",
       "    <tr>\n",
       "      <th>14</th>\n",
       "      <td>NaN</td>\n",
       "      <td>Male</td>\n",
       "      <td>37.0</td>\n",
       "      <td>20.0</td>\n",
       "      <td>13.0</td>\n",
       "    </tr>\n",
       "    <tr>\n",
       "      <th>15</th>\n",
       "      <td>16.0</td>\n",
       "      <td>Male</td>\n",
       "      <td>22.0</td>\n",
       "      <td>20.0</td>\n",
       "      <td>79.0</td>\n",
       "    </tr>\n",
       "    <tr>\n",
       "      <th>16</th>\n",
       "      <td>17.0</td>\n",
       "      <td>Female</td>\n",
       "      <td>35.0</td>\n",
       "      <td>21.0</td>\n",
       "      <td>35.0</td>\n",
       "    </tr>\n",
       "    <tr>\n",
       "      <th>17</th>\n",
       "      <td>18.0</td>\n",
       "      <td>Male</td>\n",
       "      <td>20.0</td>\n",
       "      <td>9999.0</td>\n",
       "      <td>66.0</td>\n",
       "    </tr>\n",
       "    <tr>\n",
       "      <th>18</th>\n",
       "      <td>19.0</td>\n",
       "      <td>Male</td>\n",
       "      <td>52.0</td>\n",
       "      <td>23.0</td>\n",
       "      <td>29.0</td>\n",
       "    </tr>\n",
       "  </tbody>\n",
       "</table>\n",
       "</div>"
      ],
      "text/plain": [
       "    CustomerID  gender   age  income  score\n",
       "0          1.0    Male  19.0    15.0   39.0\n",
       "1          2.0    Male  21.0    15.0   81.0\n",
       "2          3.0  Female  20.0    16.0    6.0\n",
       "3          NaN  Female  23.0    16.0    NaN\n",
       "4          5.0  Female  31.0    17.0   40.0\n",
       "5          6.0  Female   NaN    17.0   76.0\n",
       "6          7.0  Female  35.0    18.0    6.0\n",
       "7          8.0  Female  23.0    18.0   94.0\n",
       "8          9.0    Male  64.0     NaN    3.0\n",
       "9         10.0  Female  30.0    19.0   72.0\n",
       "10        11.0    Male  67.0    19.0   14.0\n",
       "11        12.0  Female  35.0    19.0   99.0\n",
       "12         NaN  Female   NaN    20.0    NaN\n",
       "13        14.0  Female  24.0     NaN   77.0\n",
       "14         NaN    Male  37.0    20.0   13.0\n",
       "15        16.0    Male  22.0    20.0   79.0\n",
       "16        17.0  Female  35.0    21.0   35.0\n",
       "17        18.0    Male  20.0  9999.0   66.0\n",
       "18        19.0    Male  52.0    23.0   29.0"
      ]
     },
     "execution_count": 1,
     "metadata": {},
     "output_type": "execute_result"
    }
   ],
   "source": [
    "import matplotlib.pyplot as plt\n",
    "import pandas as pd\n",
    "import seaborn as sns\n",
    "df=pd.read_csv(\"cust.csv\")\n",
    "df.head(20)\n",
    "\n"
   ]
  },
  {
   "cell_type": "code",
   "execution_count": 2,
   "id": "e6e8cfe6-4aae-44ac-ae45-d3382533b707",
   "metadata": {},
   "outputs": [
    {
     "name": "stdout",
     "output_type": "stream",
     "text": [
      "<class 'pandas.core.frame.DataFrame'>\n",
      "RangeIndex: 19 entries, 0 to 18\n",
      "Data columns (total 5 columns):\n",
      " #   Column      Non-Null Count  Dtype  \n",
      "---  ------      --------------  -----  \n",
      " 0   CustomerID  16 non-null     float64\n",
      " 1   gender      19 non-null     object \n",
      " 2   age         17 non-null     float64\n",
      " 3   income      17 non-null     float64\n",
      " 4   score       17 non-null     float64\n",
      "dtypes: float64(4), object(1)\n",
      "memory usage: 888.0+ bytes\n"
     ]
    }
   ],
   "source": [
    "df.info()"
   ]
  },
  {
   "cell_type": "code",
   "execution_count": 3,
   "id": "b147992d-ecde-4b3b-bbba-10f46e831676",
   "metadata": {},
   "outputs": [
    {
     "name": "stdout",
     "output_type": "stream",
     "text": [
      "<class 'pandas.core.frame.DataFrame'>\n",
      "RangeIndex: 19 entries, 0 to 18\n",
      "Data columns (total 5 columns):\n",
      " #   Column      Non-Null Count  Dtype  \n",
      "---  ------      --------------  -----  \n",
      " 0   CustomerID  16 non-null     float64\n",
      " 1   gender      19 non-null     object \n",
      " 2   age         17 non-null     float64\n",
      " 3   income      17 non-null     float64\n",
      " 4   score       17 non-null     float64\n",
      "dtypes: float64(4), object(1)\n",
      "memory usage: 888.0+ bytes\n"
     ]
    }
   ],
   "source": [
    "df.info()"
   ]
  },
  {
   "cell_type": "code",
   "execution_count": 4,
   "id": "ebc5efc9-dd6f-4e75-b079-589c43e6bef5",
   "metadata": {},
   "outputs": [
    {
     "name": "stdout",
     "output_type": "stream",
     "text": [
      "<class 'pandas.core.series.Series'>\n",
      "RangeIndex: 19 entries, 0 to 18\n",
      "Series name: age\n",
      "Non-Null Count  Dtype  \n",
      "--------------  -----  \n",
      "17 non-null     float64\n",
      "dtypes: float64(1)\n",
      "memory usage: 280.0 bytes\n"
     ]
    }
   ],
   "source": [
    "df['age'].info()"
   ]
  },
  {
   "cell_type": "code",
   "execution_count": 5,
   "id": "73a5c2ae-e1dc-4250-8208-d371a5897f66",
   "metadata": {},
   "outputs": [
    {
     "name": "stdout",
     "output_type": "stream",
     "text": [
      "    CustomerID  gender   age  income  score\n",
      "0        1.000    Male  19.0    15.0   39.0\n",
      "1        2.000    Male  21.0    15.0   81.0\n",
      "2        3.000  Female  20.0    16.0    6.0\n",
      "3        9.875  Female  23.0    16.0    NaN\n",
      "4        5.000  Female  31.0    17.0   40.0\n",
      "5        6.000  Female   NaN    17.0   76.0\n",
      "6        7.000  Female  35.0    18.0    6.0\n",
      "7        8.000  Female  23.0    18.0   94.0\n",
      "8        9.000    Male  64.0     NaN    3.0\n",
      "9       10.000  Female  30.0    19.0   72.0\n",
      "10      11.000    Male  67.0    19.0   14.0\n",
      "11      12.000  Female  35.0    19.0   99.0\n",
      "12       9.875  Female   NaN    20.0    NaN\n",
      "13      14.000  Female  24.0     NaN   77.0\n",
      "14       9.875    Male  37.0    20.0   13.0\n",
      "15      16.000    Male  22.0    20.0   79.0\n",
      "16      17.000  Female  35.0    21.0   35.0\n",
      "17      18.000    Male  20.0  9999.0   66.0\n",
      "18      19.000    Male  52.0    23.0   29.0\n"
     ]
    },
    {
     "name": "stderr",
     "output_type": "stream",
     "text": [
      "C:\\Users\\student\\AppData\\Local\\Temp\\ipykernel_5084\\233623964.py:1: FutureWarning: A value is trying to be set on a copy of a DataFrame or Series through chained assignment using an inplace method.\n",
      "The behavior will change in pandas 3.0. This inplace method will never work because the intermediate object on which we are setting values always behaves as a copy.\n",
      "\n",
      "For example, when doing 'df[col].method(value, inplace=True)', try using 'df.method({col: value}, inplace=True)' or df[col] = df[col].method(value) instead, to perform the operation inplace on the original object.\n",
      "\n",
      "\n",
      "  df['CustomerID'].fillna(df['CustomerID'].mean(),inplace=True)\n"
     ]
    }
   ],
   "source": [
    "df['CustomerID'].fillna(df['CustomerID'].mean(),inplace=True)\n",
    "print(df)"
   ]
  },
  {
   "cell_type": "code",
   "execution_count": 6,
   "id": "dedd4ad9-16b0-4d58-a9ea-287be5ca554a",
   "metadata": {},
   "outputs": [
    {
     "name": "stdout",
     "output_type": "stream",
     "text": [
      "    CustomerID  gender        age  income  score\n",
      "0        1.000    Male  19.000000    15.0   39.0\n",
      "1        2.000    Male  21.000000    15.0   81.0\n",
      "2        3.000  Female  20.000000    16.0    6.0\n",
      "3        9.875  Female  23.000000    16.0    NaN\n",
      "4        5.000  Female  31.000000    17.0   40.0\n",
      "5        6.000  Female  32.823529    17.0   76.0\n",
      "6        7.000  Female  35.000000    18.0    6.0\n",
      "7        8.000  Female  23.000000    18.0   94.0\n",
      "8        9.000    Male  64.000000     NaN    3.0\n",
      "9       10.000  Female  30.000000    19.0   72.0\n",
      "10      11.000    Male  67.000000    19.0   14.0\n",
      "11      12.000  Female  35.000000    19.0   99.0\n",
      "12       9.875  Female  32.823529    20.0    NaN\n",
      "13      14.000  Female  24.000000     NaN   77.0\n",
      "14       9.875    Male  37.000000    20.0   13.0\n",
      "15      16.000    Male  22.000000    20.0   79.0\n",
      "16      17.000  Female  35.000000    21.0   35.0\n",
      "17      18.000    Male  20.000000  9999.0   66.0\n",
      "18      19.000    Male  52.000000    23.0   29.0\n"
     ]
    },
    {
     "name": "stderr",
     "output_type": "stream",
     "text": [
      "C:\\Users\\student\\AppData\\Local\\Temp\\ipykernel_5084\\2644800082.py:1: FutureWarning: A value is trying to be set on a copy of a DataFrame or Series through chained assignment using an inplace method.\n",
      "The behavior will change in pandas 3.0. This inplace method will never work because the intermediate object on which we are setting values always behaves as a copy.\n",
      "\n",
      "For example, when doing 'df[col].method(value, inplace=True)', try using 'df.method({col: value}, inplace=True)' or df[col] = df[col].method(value) instead, to perform the operation inplace on the original object.\n",
      "\n",
      "\n",
      "  df['age'].fillna(df['age'].mean(),inplace=True)\n"
     ]
    }
   ],
   "source": [
    "df['age'].fillna(df['age'].mean(),inplace=True)\n",
    "print(df)"
   ]
  },
  {
   "cell_type": "code",
   "execution_count": 7,
   "id": "1c0224ac-0c5a-4502-81c4-a4dc62a055ef",
   "metadata": {},
   "outputs": [
    {
     "name": "stdout",
     "output_type": "stream",
     "text": [
      "    CustomerID  gender        age       income  score\n",
      "0        1.000    Male  19.000000    15.000000   39.0\n",
      "1        2.000    Male  21.000000    15.000000   81.0\n",
      "2        3.000  Female  20.000000    16.000000    6.0\n",
      "3        9.875  Female  23.000000    16.000000    NaN\n",
      "4        5.000  Female  31.000000    17.000000   40.0\n",
      "5        6.000  Female  32.823529    17.000000   76.0\n",
      "6        7.000  Female  35.000000    18.000000    6.0\n",
      "7        8.000  Female  23.000000    18.000000   94.0\n",
      "8        9.000    Male  64.000000   605.411765    3.0\n",
      "9       10.000  Female  30.000000    19.000000   72.0\n",
      "10      11.000    Male  67.000000    19.000000   14.0\n",
      "11      12.000  Female  35.000000    19.000000   99.0\n",
      "12       9.875  Female  32.823529    20.000000    NaN\n",
      "13      14.000  Female  24.000000   605.411765   77.0\n",
      "14       9.875    Male  37.000000    20.000000   13.0\n",
      "15      16.000    Male  22.000000    20.000000   79.0\n",
      "16      17.000  Female  35.000000    21.000000   35.0\n",
      "17      18.000    Male  20.000000  9999.000000   66.0\n",
      "18      19.000    Male  52.000000    23.000000   29.0\n"
     ]
    },
    {
     "name": "stderr",
     "output_type": "stream",
     "text": [
      "C:\\Users\\student\\AppData\\Local\\Temp\\ipykernel_5084\\589781866.py:1: FutureWarning: A value is trying to be set on a copy of a DataFrame or Series through chained assignment using an inplace method.\n",
      "The behavior will change in pandas 3.0. This inplace method will never work because the intermediate object on which we are setting values always behaves as a copy.\n",
      "\n",
      "For example, when doing 'df[col].method(value, inplace=True)', try using 'df.method({col: value}, inplace=True)' or df[col] = df[col].method(value) instead, to perform the operation inplace on the original object.\n",
      "\n",
      "\n",
      "  df['income'].fillna(df['income'].mean(),inplace=True)\n"
     ]
    }
   ],
   "source": [
    "df['income'].fillna(df['income'].mean(),inplace=True)\n",
    "print(df)"
   ]
  },
  {
   "cell_type": "code",
   "execution_count": 8,
   "id": "68853e0e-e9bb-4b78-aa7a-03eee8427bd3",
   "metadata": {},
   "outputs": [
    {
     "data": {
      "text/plain": [
       "0     False\n",
       "1     False\n",
       "2     False\n",
       "3     False\n",
       "4     False\n",
       "5     False\n",
       "6     False\n",
       "7     False\n",
       "8     False\n",
       "9     False\n",
       "10    False\n",
       "11    False\n",
       "12    False\n",
       "13    False\n",
       "14    False\n",
       "15    False\n",
       "16    False\n",
       "17    False\n",
       "18    False\n",
       "dtype: bool"
      ]
     },
     "execution_count": 8,
     "metadata": {},
     "output_type": "execute_result"
    }
   ],
   "source": [
    "df.duplicated()"
   ]
  },
  {
   "cell_type": "code",
   "execution_count": 9,
   "id": "8165532f-59ed-40bc-825c-fd2d1eb242d3",
   "metadata": {},
   "outputs": [
    {
     "data": {
      "text/plain": [
       "np.int64(0)"
      ]
     },
     "execution_count": 9,
     "metadata": {},
     "output_type": "execute_result"
    }
   ],
   "source": [
    "df.duplicated().sum()"
   ]
  },
  {
   "cell_type": "code",
   "execution_count": 10,
   "id": "cc129ecc-05f4-4863-83f8-b85a12ae71ab",
   "metadata": {},
   "outputs": [
    {
     "name": "stdout",
     "output_type": "stream",
     "text": [
      "<class 'pandas.core.series.Series'>\n",
      "RangeIndex: 19 entries, 0 to 18\n",
      "Series name: None\n",
      "Non-Null Count  Dtype\n",
      "--------------  -----\n",
      "19 non-null     bool \n",
      "dtypes: bool(1)\n",
      "memory usage: 147.0 bytes\n"
     ]
    }
   ],
   "source": [
    "df.duplicated().info()"
   ]
  },
  {
   "cell_type": "code",
   "execution_count": 11,
   "id": "11425cce-8b15-407c-8cee-662162baa91d",
   "metadata": {},
   "outputs": [
    {
     "data": {
      "text/plain": [
       "CustomerID    0\n",
       "gender        0\n",
       "age           0\n",
       "income        0\n",
       "score         2\n",
       "dtype: int64"
      ]
     },
     "execution_count": 11,
     "metadata": {},
     "output_type": "execute_result"
    }
   ],
   "source": [
    "df.isnull().sum()\n"
   ]
  },
  {
   "cell_type": "code",
   "execution_count": null,
   "id": "e3ee8828-4bec-4db5-8c83-a91ae274757a",
   "metadata": {},
   "outputs": [],
   "source": []
  },
  {
   "cell_type": "code",
   "execution_count": 12,
   "id": "77b39ab6-90b2-4405-9699-677669d280f9",
   "metadata": {},
   "outputs": [
    {
     "name": "stdout",
     "output_type": "stream",
     "text": [
      "    CustomerID  gender        age       income  score\n",
      "0        1.000       1  19.000000    15.000000   39.0\n",
      "1        2.000       1  21.000000    15.000000   81.0\n",
      "2        3.000       0  20.000000    16.000000    6.0\n",
      "3        9.875       0  23.000000    16.000000    NaN\n",
      "4        5.000       0  31.000000    17.000000   40.0\n",
      "5        6.000       0  32.823529    17.000000   76.0\n",
      "6        7.000       0  35.000000    18.000000    6.0\n",
      "7        8.000       0  23.000000    18.000000   94.0\n",
      "8        9.000       1  64.000000   605.411765    3.0\n",
      "9       10.000       0  30.000000    19.000000   72.0\n",
      "10      11.000       1  67.000000    19.000000   14.0\n",
      "11      12.000       0  35.000000    19.000000   99.0\n",
      "12       9.875       0  32.823529    20.000000    NaN\n",
      "13      14.000       0  24.000000   605.411765   77.0\n",
      "14       9.875       1  37.000000    20.000000   13.0\n",
      "15      16.000       1  22.000000    20.000000   79.0\n",
      "16      17.000       0  35.000000    21.000000   35.0\n",
      "17      18.000       1  20.000000  9999.000000   66.0\n",
      "18      19.000       1  52.000000    23.000000   29.0\n",
      "CustomerID      9.875000\n",
      "gender          0.421053\n",
      "age            32.823529\n",
      "income        605.411765\n",
      "score          48.764706\n",
      "dtype: float64\n",
      "   CustomerID  gender   age  income  score\n",
      "0       9.875     0.0  35.0    19.0    6.0\n",
      "1         NaN     NaN   NaN    20.0    NaN\n"
     ]
    }
   ],
   "source": [
    "df['gender']=df['gender'].map({'Male':1,'Female':0})\n",
    "print(df)\n",
    "mean=df.mean()\n",
    "mode=df.mode()\n",
    "print(mean)\n",
    "print(mode)"
   ]
  },
  {
   "cell_type": "code",
   "execution_count": 16,
   "id": "6508641b-cc69-438c-98a8-19a719d3c2bf",
   "metadata": {},
   "outputs": [
    {
     "name": "stdout",
     "output_type": "stream",
     "text": [
      "    CustomerID  gender        age       income  score\n",
      "0            1       1  19.000000    15.000000   39.0\n",
      "1            2       1  21.000000    15.000000   81.0\n",
      "2            3       0  20.000000    16.000000    6.0\n",
      "4            5       0  31.000000    17.000000   40.0\n",
      "5            6       0  32.823529    17.000000   76.0\n",
      "6            7       0  35.000000    18.000000    6.0\n",
      "7            8       0  23.000000    18.000000   94.0\n",
      "8            9       1  64.000000   605.411765    3.0\n",
      "9           10       0  30.000000    19.000000   72.0\n",
      "10          11       1  67.000000    19.000000   14.0\n",
      "11          12       0  35.000000    19.000000   99.0\n",
      "13          14       0  24.000000   605.411765   77.0\n",
      "15          16       1  22.000000    20.000000   79.0\n",
      "16          17       0  35.000000    21.000000   35.0\n",
      "17          18       1  20.000000  9999.000000   66.0\n",
      "18          19       1  52.000000    23.000000   29.0\n"
     ]
    }
   ],
   "source": [
    "import numpy as np\n",
    "df['CustomerID'] = df['CustomerID'].replace(9.875, np.nan)\n",
    "\n",
    "df = df.dropna(subset=['CustomerID'])  # Remove rows where CustomerID is missing\n",
    "df['CustomerID'] = df['CustomerID'].astype(int)  # Convert to integers\n",
    "print(df)\n"
   ]
  },
  {
   "cell_type": "code",
   "execution_count": 19,
   "id": "acc1b637-5cdb-419d-9f60-3ddcf2068b0c",
   "metadata": {},
   "outputs": [
    {
     "data": {
      "text/plain": [
       "CustomerID    0\n",
       "gender        0\n",
       "age           0\n",
       "income        0\n",
       "score         0\n",
       "dtype: int64"
      ]
     },
     "execution_count": 19,
     "metadata": {},
     "output_type": "execute_result"
    }
   ],
   "source": [
    "df.isnull().sum()"
   ]
  },
  {
   "cell_type": "code",
   "execution_count": 20,
   "id": "3a4158a7-301b-4e12-b585-8439196a963f",
   "metadata": {},
   "outputs": [
    {
     "name": "stdout",
     "output_type": "stream",
     "text": [
      "    CustomerID  gender        age       income  score\n",
      "0            1       1  19.000000    15.000000   39.0\n",
      "1            2       1  21.000000    15.000000   81.0\n",
      "2            3       0  20.000000    16.000000    6.0\n",
      "4            5       0  31.000000    17.000000   40.0\n",
      "5            6       0  32.823529    17.000000   76.0\n",
      "6            7       0  35.000000    18.000000    6.0\n",
      "7            8       0  23.000000    18.000000   94.0\n",
      "8            9       1  64.000000   605.411765    3.0\n",
      "9           10       0  30.000000    19.000000   72.0\n",
      "10          11       1  67.000000    19.000000   14.0\n",
      "11          12       0  35.000000    19.000000   99.0\n",
      "13          14       0  24.000000   605.411765   77.0\n",
      "15          16       1  22.000000    20.000000   79.0\n",
      "16          17       0  35.000000    21.000000   35.0\n",
      "17          18       1  20.000000  9999.000000   66.0\n",
      "18          19       1  52.000000    23.000000   29.0\n"
     ]
    }
   ],
   "source": [
    "print(df)"
   ]
  },
  {
   "cell_type": "code",
   "execution_count": 22,
   "id": "4459ab13-bd65-4d1a-a663-9daa5b71c645",
   "metadata": {},
   "outputs": [
    {
     "data": {
      "image/png": "[encoded data removed]",
      "text/plain": [
       "<Figure size 640x480 with 1 Axes>"
      ]
     },
     "metadata": {},
     "output_type": "display_data"
    }
   ],
   "source": [
    "sns.boxplot(x=df['age'])\n",
    "plt.title(\"ages\")\n",
    "plt.show()"
   ]
  },
  {
   "cell_type": "code",
   "execution_count": 23,
   "id": "5d43a2a9-a8e6-405b-9938-d0952218cb49",
   "metadata": {},
   "outputs": [
    {
     "name": "stdout",
     "output_type": "stream",
     "text": [
      "1.3390538707464459\n"
     ]
    }
   ],
   "source": [
    "skw=df['age'].skew()\n",
    "print(skw)"
   ]
  },
  {
   "cell_type": "code",
   "execution_count": 25,
   "id": "5348b7c6-4398-4f2b-a1b9-eb4674fbf59b",
   "metadata": {},
   "outputs": [
    {
     "name": "stdout",
     "output_type": "stream",
     "text": [
      "0.8997780818199717\n"
     ]
    }
   ],
   "source": [
    "kurt=df['age'].kurt()\n",
    "print(kurt)"
   ]
  },
  {
   "cell_type": "code",
   "execution_count": 26,
   "id": "81af6f73-b837-433e-a7eb-10534c679d52",
   "metadata": {},
   "outputs": [
    {
     "name": "stdout",
     "output_type": "stream",
     "text": [
      "    CustomerID  gender  age       income  score\n",
      "0            1       1   19    15.000000   39.0\n",
      "1            2       1   21    15.000000   81.0\n",
      "2            3       0   20    16.000000    6.0\n",
      "4            5       0   31    17.000000   40.0\n",
      "5            6       0   32    17.000000   76.0\n",
      "6            7       0   35    18.000000    6.0\n",
      "7            8       0   23    18.000000   94.0\n",
      "8            9       1   64   605.411765    3.0\n",
      "9           10       0   30    19.000000   72.0\n",
      "10          11       1   67    19.000000   14.0\n",
      "11          12       0   35    19.000000   99.0\n",
      "13          14       0   24   605.411765   77.0\n",
      "15          16       1   22    20.000000   79.0\n",
      "16          17       0   35    21.000000   35.0\n",
      "17          18       1   20  9999.000000   66.0\n",
      "18          19       1   52    23.000000   29.0\n"
     ]
    }
   ],
   "source": [
    "df['age']=df['age'].astype(int)\n",
    "print(df)"
   ]
  },
  {
   "cell_type": "code",
   "execution_count": 27,
   "id": "bb42f0b4-1254-4944-8dcf-1e7fcd159325",
   "metadata": {},
   "outputs": [
    {
     "name": "stdout",
     "output_type": "stream",
     "text": [
      "    CustomerID  gender  age  income  score\n",
      "0            1       1   19      15     39\n",
      "1            2       1   21      15     81\n",
      "2            3       0   20      16      6\n",
      "4            5       0   31      17     40\n",
      "5            6       0   32      17     76\n",
      "6            7       0   35      18      6\n",
      "7            8       0   23      18     94\n",
      "8            9       1   64     605      3\n",
      "9           10       0   30      19     72\n",
      "10          11       1   67      19     14\n",
      "11          12       0   35      19     99\n",
      "13          14       0   24     605     77\n",
      "15          16       1   22      20     79\n",
      "16          17       0   35      21     35\n",
      "17          18       1   20    9999     66\n",
      "18          19       1   52      23     29\n"
     ]
    }
   ],
   "source": [
    "df[['score','income']]=df[['score','income']].astype(int)\n",
    "print(df)"
   ]
  },
  {
   "cell_type": "code",
   "execution_count": 33,
   "id": "60b120c1-6196-49b4-aa26-64d6a317afa2",
   "metadata": {},
   "outputs": [
    {
     "name": "stdout",
     "output_type": "stream",
     "text": [
      "    CustomerID  gender  age  income  score age_group\n",
      "0            1       1   19      15     39      teen\n",
      "1            2       1   21      15     81     young\n",
      "2            3       0   20      16      6      teen\n",
      "4            5       0   31      17     40     young\n",
      "5            6       0   32      17     76     young\n",
      "6            7       0   35      18      6     young\n",
      "7            8       0   23      18     94     young\n",
      "8            9       1   64     605      3    semior\n",
      "9           10       0   30      19     72     young\n",
      "10          11       1   67      19     14    semior\n",
      "11          12       0   35      19     99     young\n",
      "13          14       0   24     605     77     young\n",
      "15          16       1   22      20     79     young\n",
      "16          17       0   35      21     35     young\n",
      "17          18       1   20    9999     66      teen\n",
      "18          19       1   52      23     29    semior\n"
     ]
    }
   ],
   "source": [
    "bins=[0,20,35,45,80]\n",
    "labels=['teen','young','middle','semior']\n",
    "df['age_group']=pd.cut(df['age'],bins=bins,labels=labels)\n",
    "print(df)"
   ]
  },
  {
   "cell_type": "code",
   "execution_count": 37,
   "id": "6064473d-fc22-49b7-be18-fb2abce5531c",
   "metadata": {},
   "outputs": [
    {
     "name": "stdout",
     "output_type": "stream",
     "text": [
      "    CustomerID  gender  age  income  score age_group level_income\n",
      "0            1       1   19      15     39      teen        waste\n",
      "1            2       1   21      15     81     young        waste\n",
      "2            3       0   20      16      6      teen          low\n",
      "4            5       0   31      17     40     young          low\n",
      "5            6       0   32      17     76     young          low\n",
      "6            7       0   35      18      6     young          low\n",
      "7            8       0   23      18     94     young          low\n",
      "8            9       1   64     605      3    semior         high\n",
      "9           10       0   30      19     72     young          low\n",
      "10          11       1   67      19     14    semior          low\n",
      "11          12       0   35      19     99     young          low\n",
      "13          14       0   24     605     77     young         high\n",
      "15          16       1   22      20     79     young          low\n",
      "16          17       0   35      21     35     young          low\n",
      "17          18       1   20    9999     66      teen         high\n",
      "18          19       1   52      23     29    semior          low\n"
     ]
    }
   ],
   "source": [
    "bins=[1,15,25,35,10000]\n",
    "labels=['waste','low','medium','high']\n",
    "df['level_income']=pd.cut(df['income'],bins=bins,labels=labels)\n",
    "print(df)"
   ]
  },
  {
   "cell_type": "code",
   "execution_count": 38,
   "id": "ba4670c6-9724-4e12-a449-8ca43107566d",
   "metadata": {},
   "outputs": [],
   "source": [
    "df.to_csv(\"cleaned_data.csv\", index=False)  # Save without the index column\n"
   ]
  },
  {
   "cell_type": "code",
   "execution_count": 40,
   "id": "d1ca733c-fc6c-42dd-b34f-71f95f98ac08",
   "metadata": {},
   "outputs": [
    {
     "name": "stdout",
     "output_type": "stream",
     "text": [
      "    CustomerID  gender  age  income  score age_group level_income\n",
      "0            1       1   19      15     39      teen        waste\n",
      "1            2       1   21      15     81     young        waste\n",
      "2            3       0   20      16      6      teen          low\n",
      "3            5       0   31      17     40     young          low\n",
      "4            6       0   32      17     76     young          low\n",
      "5            7       0   35      18      6     young          low\n",
      "6            8       0   23      18     94     young          low\n",
      "7            9       1   64     605      3    semior         high\n",
      "8           10       0   30      19     72     young          low\n",
      "9           11       1   67      19     14    semior          low\n",
      "10          12       0   35      19     99     young          low\n",
      "11          14       0   24     605     77     young         high\n",
      "12          16       1   22      20     79     young          low\n",
      "13          17       0   35      21     35     young          low\n",
      "14          18       1   20    9999     66      teen         high\n",
      "15          19       1   52      23     29    semior          low\n"
     ]
    }
   ],
   "source": [
    "df_new = pd.read_csv(\"cleaned_data.csv\")\n",
    "print(df_new)  # Display the first few rows to confirm\n"
   ]
  },
  {
   "cell_type": "code",
   "execution_count": 41,
   "id": "51790423-229f-400c-8773-08547966a887",
   "metadata": {},
   "outputs": [],
   "source": [
    "df=pd.read_csv(\"cleaned_data.csv\")\n",
    "from sklearn.model_selection import train_test_split  \n",
    "from sklearn.preprocessing import LabelEncoder, StandardScaler  \n",
    "from sklearn.linear_model import LogisticRegression  \n",
    "from sklearn.metrics import accuracy_score, classification_report  \n",
    "# Encoding categorical features\n",
    "le = LabelEncoder()\n",
    "df['level_income'] = le.fit_transform(df['level_income'])  # Converts 'low', 'medium', 'high' to numbers\n"
   ]
  },
  {
   "cell_type": "code",
   "execution_count": 42,
   "id": "cf8b7917-9c17-4c56-983b-f5b0d430a9b3",
   "metadata": {},
   "outputs": [
    {
     "name": "stdout",
     "output_type": "stream",
     "text": [
      "Accuracy: 0.25\n",
      "Classification Report:\n",
      "              precision    recall  f1-score   support\n",
      "\n",
      "           0       0.00      0.00      0.00         1\n",
      "           1       0.25      1.00      0.40         1\n",
      "           2       0.00      0.00      0.00         2\n",
      "\n",
      "    accuracy                           0.25         4\n",
      "   macro avg       0.08      0.33      0.13         4\n",
      "weighted avg       0.06      0.25      0.10         4\n",
      "\n"
     ]
    },
    {
     "name": "stderr",
     "output_type": "stream",
     "text": [
      "C:\\Users\\student\\AppData\\Local\\Programs\\Python\\Python310\\lib\\site-packages\\sklearn\\metrics\\_classification.py:1565: UndefinedMetricWarning: Precision is ill-defined and being set to 0.0 in labels with no predicted samples. Use `zero_division` parameter to control this behavior.\n",
      "  _warn_prf(average, modifier, f\"{metric.capitalize()} is\", len(result))\n",
      "C:\\Users\\student\\AppData\\Local\\Programs\\Python\\Python310\\lib\\site-packages\\sklearn\\metrics\\_classification.py:1565: UndefinedMetricWarning: Precision is ill-defined and being set to 0.0 in labels with no predicted samples. Use `zero_division` parameter to control this behavior.\n",
      "  _warn_prf(average, modifier, f\"{metric.capitalize()} is\", len(result))\n",
      "C:\\Users\\student\\AppData\\Local\\Programs\\Python\\Python310\\lib\\site-packages\\sklearn\\metrics\\_classification.py:1565: UndefinedMetricWarning: Precision is ill-defined and being set to 0.0 in labels with no predicted samples. Use `zero_division` parameter to control this behavior.\n",
      "  _warn_prf(average, modifier, f\"{metric.capitalize()} is\", len(result))\n"
     ]
    }
   ],
   "source": [
    "scaler = StandardScaler()\n",
    "df[['age', 'income', 'score']] = scaler.fit_transform(df[['age', 'income', 'score']])\n",
    "# Define input features (X) and target variable (y)\n",
    "X = df[['age', 'score']]\n",
    "y = df['level_income']\n",
    "\n",
    "# Split data into training (80%) and testing (20%) sets\n",
    "X_train, X_test, y_train, y_test = train_test_split(X, y, test_size=0.2, random_state=42)\n",
    "\n",
    "# Train Logistic Regression Model\n",
    "model = LogisticRegression()\n",
    "model.fit(X_train, y_train)\n",
    "y_pred = model.predict(X_test)\n",
    "accuracy = accuracy_score(y_test, y_pred)\n",
    "print(\"Accuracy:\", accuracy)\n",
    "\n",
    "print(\"Classification Report:\")\n",
    "print(classification_report(y_test, y_pred))\n"
   ]
  },
  {
   "cell_type": "code",
   "execution_count": null,
   "id": "1dfab8d1-b388-456e-aa90-ce403361984a",
   "metadata": {},
   "outputs": [],
   "source": []
  }
 ],
 "metadata": {
  "kernelspec": {
   "display_name": "Python 3 (ipykernel)",
   "language": "python",
   "name": "python3"
  },
  "language_info": {
   "codemirror_mode": {
    "name": "ipython",
    "version": 3
   },
   "file_extension": ".py",
   "mimetype": "text/x-python",
   "name": "python",
   "nbconvert_exporter": "python",
   "pygments_lexer": "ipython3",
   "version": "3.10.10"
  }
 },
 "nbformat": 4,
 "nbformat_minor": 5
}
