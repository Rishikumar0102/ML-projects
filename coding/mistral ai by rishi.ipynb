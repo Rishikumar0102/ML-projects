{
 "cells": [
  {
   "cell_type": "code",
   "execution_count": 1,
   "id": "5c1e8b6b-9c18-4af8-9178-a6c658cffb45",
   "metadata": {},
   "outputs": [
    {
     "name": "stdin",
     "output_type": "stream",
     "text": [
      "Enter API key for Mistral AI:  ········\n"
     ]
    }
   ],
   "source": [
    "import getpass\n",
    "import os\n",
    "\n",
    "if not os.environ.get(\"MISTRAL_API_KEY\"):\n",
    "  os.environ[\"MISTRAL_API_KEY\"] = getpass.getpass(\"Enter API key for Mistral AI: \")\n",
    "\n",
    "from langchain.chat_models import init_chat_model\n",
    "\n",
    "model = init_chat_model(\"mistral-large-latest\", model_provider=\"mistralai\")"
   ]
  },
  {
   "cell_type": "code",
   "execution_count": 2,
   "id": "96ee91ec-141c-4291-9784-78dc18b2e027",
   "metadata": {},
   "outputs": [
    {
     "data": {
      "text/plain": [
       "AIMessage(content=\"Hello! I'm functioning as intended, thank you. How about you? How's your day going?\", additional_kwargs={}, response_metadata={'token_usage': {'prompt_tokens': 8, 'total_tokens': 31, 'completion_tokens': 23}, 'model': 'mistral-large-latest', 'finish_reason': 'stop'}, id='run-31ae82b2-fb54-44c5-96ea-99532ae834e8-0', usage_metadata={'input_tokens': 8, 'output_tokens': 23, 'total_tokens': 31})"
      ]
     },
     "execution_count": 2,
     "metadata": {},
     "output_type": "execute_result"
    }
   ],
   "source": [
    "model.invoke(\"hello how are you\")"
   ]
  },
  {
   "cell_type": "code",
   "execution_count": 3,
   "id": "77a46784-5c61-4445-a7ae-37b75b5840ba",
   "metadata": {},
   "outputs": [
    {
     "data": {
      "text/plain": [
       "AIMessage(content='The statement \"AI is greater than human\" can be interpreted in various ways, and it\\'s important to consider the context and specific aspects being compared. Here are a few points to consider:\\n\\n### Strengths of AI:\\n1. **Speed and Efficiency**: AI can process vast amounts of data and perform complex calculations much faster than humans.\\n2. **Consistency**: AI doesn\\'t get tired or lose focus, which can lead to more consistent performance over time.\\n3. **24/7 Availability**: AI systems can operate continuously without the need for breaks or sleep.\\n4. **Error Reduction**: AI can reduce human errors in repetitive tasks by automating them.\\n5. **Scalability**: AI can scale operations to handle increasing workloads without a proportional increase in resources.\\n\\n### Strengths of Humans:\\n1. **Creativity**: Humans are more adept at creative thinking, innovation, and problem-solving in unstructured environments.\\n2. **Emotional Intelligence**: Humans possess the ability to understand and manage emotions, which is crucial for social interactions and decision-making.\\n3. **Ethical Judgment**: Humans can make ethical decisions based on moral principles and societal norms, which AI systems currently struggle with.\\n4. **Adaptability**: Humans can adapt to new situations and environments more flexibly than AI, which often requires specific programming or training.\\n5. **Common Sense**: Humans have a deep understanding of context, common sense, and the ability to make intuitive judgments, which are challenging for AI to replicate.\\n\\n### Areas of Collaboration:\\n1. **Augmented Intelligence**: AI can augment human capabilities by providing tools for better decision-making, such as data analysis and predictive modeling.\\n2. **Task Specialization**: AI can handle routine and repetitive tasks, allowing humans to focus on more complex and creative work.\\n3. **Continuous Learning**: AI can learn from human feedback and improve its performance over time, creating a symbiotic relationship.\\n\\n### Ethical and Societal Considerations:\\n1. **Bias and Fairness**: AI systems can inherit biases from their training data, which humans need to monitor and mitigate.\\n2. **Privacy and Security**: The use of AI raises concerns about privacy and data security, which require human oversight.\\n3. **Job Displacement**: Automation can lead to job displacement, necessitating societal adjustments and policies to support affected workers.\\n\\n### Conclusion:\\nAI and humans have complementary strengths and weaknesses. Rather than seeing one as \"greater\" than the other, it is more productive to view them as collaborative partners. Together, AI and humans can achieve outcomes that neither could accomplish alone, leveraging the strengths of both to create more effective, efficient, and ethical solutions.', additional_kwargs={}, response_metadata={'token_usage': {'prompt_tokens': 8, 'total_tokens': 625, 'completion_tokens': 617}, 'model': 'mistral-large-latest', 'finish_reason': 'stop'}, id='run-89c486a9-dae1-425f-bf70-1f71523a863a-0', usage_metadata={'input_tokens': 8, 'output_tokens': 617, 'total_tokens': 625})"
      ]
     },
     "execution_count": 3,
     "metadata": {},
     "output_type": "execute_result"
    }
   ],
   "source": [
    "model.invoke(\"ai is greater than human\")"
   ]
  },
  {
   "cell_type": "code",
   "execution_count": null,
   "id": "904022de-8c46-418b-b4b2-1a47c9327751",
   "metadata": {},
   "outputs": [],
   "source": []
  }
 ],
 "metadata": {
  "kernelspec": {
   "display_name": "Python 3 (ipykernel)",
   "language": "python",
   "name": "python3"
  },
  "language_info": {
   "codemirror_mode": {
    "name": "ipython",
    "version": 3
   },
   "file_extension": ".py",
   "mimetype": "text/x-python",
   "name": "python",
   "nbconvert_exporter": "python",
   "pygments_lexer": "ipython3",
   "version": "3.10.10"
  }
 },
 "nbformat": 4,
 "nbformat_minor": 5
}
