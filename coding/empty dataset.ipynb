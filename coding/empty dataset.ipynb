{
 "cells": [
  {
   "cell_type": "code",
   "execution_count": 1,
   "id": "5aac79b0-378e-466d-8d14-91a1c66fa3db",
   "metadata": {},
   "outputs": [
    {
     "name": "stdout",
     "output_type": "stream",
     "text": [
      "   Sales  CompPrice  Income\n",
      "0   9.50      138.0    73.0\n",
      "1  11.22      111.0    48.0\n",
      "2  10.06      113.0   100.0\n",
      "3   7.40        NaN   100.0\n",
      "4   4.15      141.0    64.0\n",
      "   Sales  CompPrice  Income\n",
      "4   4.15      141.0    64.0\n",
      "5  10.81      124.0     NaN\n",
      "6  10.81        NaN   105.0\n",
      "7  11.85      136.0    81.0\n",
      "8   6.54      132.0   110.0\n"
     ]
    }
   ],
   "source": [
    "import pandas as pd\n",
    "\n",
    "# Load dataset and assign to df\n",
    "df = pd.read_csv(\"name.csv\")\n",
    "\n",
    "# Display first few rows\n",
    "print(df.head()) # first 5 is default will appear we can change the valuse \n",
    "print(df.tail())"
   ]
  },
  {
   "cell_type": "code",
   "execution_count": 3,
   "id": "fc9fcc22-cfa1-4b99-b732-3f0ff036d4c0",
   "metadata": {
    "scrolled": true
   },
   "outputs": [
    {
     "name": "stdout",
     "output_type": "stream",
     "text": [
      "\n",
      "After Forward/Backward Fill:\n",
      "<class 'pandas.core.frame.DataFrame'>\n",
      "RangeIndex: 9 entries, 0 to 8\n",
      "Data columns (total 3 columns):\n",
      " #   Column     Non-Null Count  Dtype  \n",
      "---  ------     --------------  -----  \n",
      " 0   Sales      9 non-null      float64\n",
      " 1   CompPrice  9 non-null      float64\n",
      " 2   Income     9 non-null      float64\n",
      "dtypes: float64(3)\n",
      "memory usage: 344.0 bytes\n",
      "None\n",
      "   Sales  CompPrice  Income\n",
      "0   9.50      138.0    73.0\n",
      "1  11.22      111.0    48.0\n",
      "2  10.06      113.0   100.0\n",
      "3   7.40        NaN   100.0\n",
      "4   4.15      141.0    64.0\n",
      "5  10.81      124.0     NaN\n",
      "6  10.81        NaN   105.0\n",
      "7  11.85      136.0    81.0\n",
      "8   6.54      132.0   110.0\n"
     ]
    },
    {
     "name": "stderr",
     "output_type": "stream",
     "text": [
      "C:\\Users\\student\\AppData\\Local\\Temp\\ipykernel_3256\\2030295172.py:2: FutureWarning: DataFrame.fillna with 'method' is deprecated and will raise in a future version. Use obj.ffill() or obj.bfill() instead.\n",
      "  df_filled = df.fillna(method='ffill')\n",
      "C:\\Users\\student\\AppData\\Local\\Temp\\ipykernel_3256\\2030295172.py:5: FutureWarning: DataFrame.fillna with 'method' is deprecated and will raise in a future version. Use obj.ffill() or obj.bfill() instead.\n",
      "  df_filled = df.fillna(method='bfill')\n"
     ]
    }
   ],
   "source": [
    "# Forward fill (fill with previous row’s value)\n",
    "df_filled = df.fillna(method='ffill')\n",
    "\n",
    "# Backward fill (fill with next row’s value)\n",
    "df_filled = df.fillna(method='bfill')\n",
    "\n",
    "print(\"\\nAfter Forward/Backward Fill:\")\n",
    "print(df_filled.info())\n",
    "print(df)\n"
   ]
  },
  {
   "cell_type": "code",
   "execution_count": null,
   "id": "5acaeac5-ccd9-4dff-9591-f5b51cf0172b",
   "metadata": {},
   "outputs": [],
   "source": []
  }
 ],
 "metadata": {
  "kernelspec": {
   "display_name": "Python 3 (ipykernel)",
   "language": "python",
   "name": "python3"
  },
  "language_info": {
   "codemirror_mode": {
    "name": "ipython",
    "version": 3
   },
   "file_extension": ".py",
   "mimetype": "text/x-python",
   "name": "python",
   "nbconvert_exporter": "python",
   "pygments_lexer": "ipython3",
   "version": "3.10.10"
  }
 },
 "nbformat": 4,
 "nbformat_minor": 5
}
