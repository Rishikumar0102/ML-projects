{
 "cells": [
  {
   "cell_type": "code",
   "execution_count": 1,
   "id": "c42c1536-1723-455d-88c5-b6a94cb6168e",
   "metadata": {},
   "outputs": [
    {
     "name": "stdout",
     "output_type": "stream",
     "text": [
      "    Sales  CompPrice  Income  Advertising  Population\n",
      "0    9.50        138      73           11         276\n",
      "1   11.22        111      48           16         260\n",
      "2   10.06        113      35           10         269\n",
      "3    7.40        117     100            4         466\n",
      "4    4.15        141      64            3         340\n",
      "5   10.81        124     113           13         501\n",
      "6    6.63        115     105            0          45\n",
      "7   11.85        136      81           15         425\n",
      "8    6.54        132     110            0         108\n",
      "9    4.69        132     113            0         131\n",
      "10   9.01        121      78            9         150\n",
      "11  11.96        117      94            4         503\n",
      "12   3.98        122      35            2         393\n",
      "13  10.96        115      28           11          29\n",
      "14  11.17        107     117           11         148\n",
      "15   8.71        149      95            5         400\n",
      "16   7.58        118      32            0         284\n",
      "17  12.29        147      74           13         251\n",
      "18  13.91        110     110            0         408\n"
     ]
    }
   ],
   "source": [
    "import pandas as pd\n",
    "\n",
    "# Load dataset and assign to df\n",
    "df = pd.read_csv(\"data.csv\")\n",
    "print(df)"
   ]
  },
  {
   "cell_type": "code",
   "execution_count": 2,
   "id": "4c6ee0d4-637d-4580-aa04-dfc3a5660814",
   "metadata": {},
   "outputs": [
    {
     "name": "stdout",
     "output_type": "stream",
     "text": [
      "79.21052631578948\n"
     ]
    }
   ],
   "source": [
    "column_name='Income'\n",
    "mean=df[column_name].mean() # method to calculate particular colunmn value\n",
    "print(mean)"
   ]
  },
  {
   "cell_type": "code",
   "execution_count": 3,
   "id": "23ad7397-bd22-4e39-9689-414cc36c11cd",
   "metadata": {},
   "outputs": [
    {
     "name": "stdout",
     "output_type": "stream",
     "text": [
      "9.074736842105262\n"
     ]
    }
   ],
   "source": [
    "column_name='Sales'\n",
    "meanSales=df[column_name].mean()\n",
    "print(meanSales)"
   ]
  },
  {
   "cell_type": "code",
   "execution_count": 4,
   "id": "018b70f7-fb1d-4fc8-be01-243119f857e8",
   "metadata": {},
   "outputs": [
    {
     "name": "stdout",
     "output_type": "stream",
     "text": [
      "0     35\n",
      "1    110\n",
      "2    113\n",
      "Name: Income, dtype: int64\n"
     ]
    }
   ],
   "source": [
    "column_name='Income'\n",
    "mode=df[column_name].mode()\n",
    "print(mode)"
   ]
  },
  {
   "cell_type": "code",
   "execution_count": 5,
   "id": "6a8e4774-c65f-4dae-b7b1-29690b5c3073",
   "metadata": {},
   "outputs": [
    {
     "name": "stdout",
     "output_type": "stream",
     "text": [
      "81.0\n"
     ]
    }
   ],
   "source": [
    "column_name='Income'\n",
    "median=df[column_name].median()\n",
    "print(median)"
   ]
  },
  {
   "cell_type": "code",
   "execution_count": 6,
   "id": "0f3a53f4-ccd8-498d-b97c-7c759d071636",
   "metadata": {},
   "outputs": [
    {
     "name": "stdout",
     "output_type": "stream",
     "text": [
      "Sales            9.074737\n",
      "CompPrice      124.473684\n",
      "Income          79.210526\n",
      "Advertising      6.684211\n",
      "Population     283.526316\n",
      "dtype: float64\n"
     ]
    }
   ],
   "source": [
    "name=df.mean() # average of the data \n",
    "print(name)"
   ]
  },
  {
   "cell_type": "code",
   "execution_count": 7,
   "id": "546b8ca9-6305-42fc-acf1-58ff59075974",
   "metadata": {},
   "outputs": [
    {
     "name": "stdout",
     "output_type": "stream",
     "text": [
      "    Sales  CompPrice  Income  Advertising  Population\n",
      "0    3.98      115.0    35.0          0.0          29\n",
      "1    4.15      117.0   110.0          NaN          45\n",
      "2    4.69      132.0   113.0          NaN         108\n",
      "3    6.54        NaN     NaN          NaN         131\n",
      "4    6.63        NaN     NaN          NaN         148\n",
      "5    7.40        NaN     NaN          NaN         150\n",
      "6    7.58        NaN     NaN          NaN         251\n",
      "7    8.71        NaN     NaN          NaN         260\n",
      "8    9.01        NaN     NaN          NaN         269\n",
      "9    9.50        NaN     NaN          NaN         276\n",
      "10  10.06        NaN     NaN          NaN         284\n",
      "11  10.81        NaN     NaN          NaN         340\n",
      "12  10.96        NaN     NaN          NaN         393\n",
      "13  11.17        NaN     NaN          NaN         400\n",
      "14  11.22        NaN     NaN          NaN         408\n",
      "15  11.85        NaN     NaN          NaN         425\n",
      "16  11.96        NaN     NaN          NaN         466\n",
      "17  12.29        NaN     NaN          NaN         501\n",
      "18  13.91        NaN     NaN          NaN         503\n"
     ]
    }
   ],
   "source": [
    "name1=df.mode() # most coccuring vslue \n",
    "print(name1)"
   ]
  },
  {
   "cell_type": "code",
   "execution_count": 8,
   "id": "40a8cf94-a1d7-4fe0-b684-dfd79abc4869",
   "metadata": {},
   "outputs": [
    {
     "name": "stdout",
     "output_type": "stream",
     "text": [
      "Sales            9.5\n",
      "CompPrice      121.0\n",
      "Income          81.0\n",
      "Advertising      5.0\n",
      "Population     276.0\n",
      "dtype: float64\n"
     ]
    }
   ],
   "source": [
    "name=df.median() # middle valu\n",
    "print(name)"
   ]
  },
  {
   "cell_type": "code",
   "execution_count": 9,
   "id": "0e0686a0-1e5d-4c42-957b-877adb9ff21b",
   "metadata": {},
   "outputs": [
    {
     "name": "stdout",
     "output_type": "stream",
     "text": [
      "956.0643274853802\n"
     ]
    }
   ],
   "source": [
    "variance=df['Income'].var() # to calcultate the varience for spectfic columns\n",
    "print(variance)"
   ]
  },
  {
   "cell_type": "code",
   "execution_count": 10,
   "id": "e39c3bf5-5419-403a-a697-e7342836e6a0",
   "metadata": {},
   "outputs": [
    {
     "name": "stdout",
     "output_type": "stream",
     "text": [
      "8.525937426900585\n"
     ]
    }
   ],
   "source": [
    "vare=df['Sales'].var()# to calcultate the varience for spectfic columns\n",
    "print(vare)"
   ]
  },
  {
   "cell_type": "code",
   "execution_count": 11,
   "id": "3b6febdf-5127-4c37-b03b-0cbbe93aadb7",
   "metadata": {},
   "outputs": [
    {
     "name": "stdout",
     "output_type": "stream",
     "text": [
      "Sales              8.525937\n",
      "CompPrice        166.152047\n",
      "Income           956.064327\n",
      "Advertising       32.450292\n",
      "Population     22602.040936\n",
      "dtype: float64\n"
     ]
    }
   ],
   "source": [
    "variance=df.var() # used to calculate over variance\n",
    "print(variance)"
   ]
  },
  {
   "cell_type": "code",
   "execution_count": 12,
   "id": "295e8567-3b9d-496a-8aee-48e52883be23",
   "metadata": {},
   "outputs": [
    {
     "name": "stdout",
     "output_type": "stream",
     "text": [
      "30.92028989976291\n"
     ]
    }
   ],
   "source": [
    "sd=df['Income'].std() # to calculaye std in particular columsn \n",
    "print(sd)"
   ]
  },
  {
   "cell_type": "code",
   "execution_count": 13,
   "id": "4aed66a5-1b4a-4652-8eef-a726730965b4",
   "metadata": {},
   "outputs": [
    {
     "name": "stdout",
     "output_type": "stream",
     "text": [
      "Sales            2.919921\n",
      "CompPrice       12.889998\n",
      "Income          30.920290\n",
      "Advertising      5.696516\n",
      "Population     150.339752\n",
      "dtype: float64\n"
     ]
    }
   ],
   "source": [
    "std=df.std()  #  to calulate overall std in a data set\n",
    "print(std)"
   ]
  },
  {
   "cell_type": "code",
   "execution_count": 14,
   "id": "b23f2347-a939-47c0-99d8-07ddb1d4cfca",
   "metadata": {},
   "outputs": [
    {
     "name": "stdout",
     "output_type": "stream",
     "text": [
      "-0.47015533836982554\n"
     ]
    }
   ],
   "source": [
    "import scipy.stats as stats # libraryu to find skeweness,kurtosis\n",
    "ske=df['Income'].skew() #used to find the symmetric of specific column (greater than zero it is right ,postive)(lesser that zero it is left and negative)\n",
    "print(ske)"
   ]
  },
  {
   "cell_type": "code",
   "execution_count": 15,
   "id": "a2d5ee1b-a36b-4bba-86a8-dec70082d01d",
   "metadata": {},
   "outputs": [
    {
     "name": "stdout",
     "output_type": "stream",
     "text": [
      "Sales         -0.377243\n",
      "CompPrice      0.590531\n",
      "Income        -0.470155\n",
      "Advertising    0.163904\n",
      "Population    -0.167600\n",
      "dtype: float64\n"
     ]
    }
   ],
   "source": [
    "skew=df.skew() # used to fing the symmetric of dataset (right or left side)\n",
    "print(skew)"
   ]
  },
  {
   "cell_type": "code",
   "execution_count": 16,
   "id": "ebbfa144-f50f-471c-9764-90dfe08e4cc7",
   "metadata": {},
   "outputs": [
    {
     "name": "stdout",
     "output_type": "stream",
     "text": [
      "-1.2237191711610667\n"
     ]
    }
   ],
   "source": [
    "kurt=df['Income'].kurt() #  > 3 → Data is more peaked (leptokurtic) with heavy tails (more extreme values).\n",
    "                             # = 3 → Data is normal-like (mesokurtic).\n",
    "                             #< 3 → Data is flatter (platykurtic) with light tails.\n",
    "print(kurt)"
   ]
  },
  {
   "cell_type": "code",
   "execution_count": 17,
   "id": "b2521695-c4ed-4f8a-8ada-50baf202aa35",
   "metadata": {},
   "outputs": [
    {
     "name": "stdout",
     "output_type": "stream",
     "text": [
      "-0.8330185958539817\n"
     ]
    }
   ],
   "source": [
    "kurt=df['Sales'].kurt()# it usede to  find which istribution is more peaked (tall and thin) or flatter (wide and spread out) compared to a normal distribution.\n",
    "print(kurt)"
   ]
  },
  {
   "cell_type": "code",
   "execution_count": 18,
   "id": "53607219-39e0-4ac4-94cd-2f948269551c",
   "metadata": {},
   "outputs": [
    {
     "name": "stdout",
     "output_type": "stream",
     "text": [
      "Sales         -0.833019\n",
      "CompPrice     -0.865634\n",
      "Income        -1.223719\n",
      "Advertising   -1.550681\n",
      "Population    -1.108403\n",
      "dtype: float64\n"
     ]
    }
   ],
   "source": [
    "kut=df.kurt()  # for entire data set \n",
    "print(kut)"
   ]
  },
  {
   "cell_type": "code",
   "execution_count": 21,
   "id": "876d0ba5-f8a5-4a18-9325-835b6d46b93b",
   "metadata": {},
   "outputs": [
    {
     "name": "stdout",
     "output_type": "stream",
     "text": [
      "56.0\n",
      "9.5\n",
      "404.0\n"
     ]
    }
   ],
   "source": [
    "percentile_25 = df['Income'].quantile(0.25)\n",
    "percentile_50 = df['Sales'].quantile(0.50)\n",
    "percentile_75 = df['Population'].quantile(0.75)     \n",
    "print(percentile_25)                               # it used to find the data below 25%,50%(middle),75% of data \n",
    "print(percentile_50)\n",
    "print(percentile_75)"
   ]
  },
  {
   "cell_type": "code",
   "execution_count": 22,
   "id": "bbf2093c-9bf5-44b9-825a-054b02f6c945",
   "metadata": {},
   "outputs": [
    {
     "name": "stdout",
     "output_type": "stream",
     "text": [
      "348.0\n"
     ]
    }
   ],
   "source": [
    "iqr= percentile_75 - percentile_25   #Measures the spread of the middle 50% of the data.\n",
    "#IQR = Q3 - Q1,Helps detect outliers: ,Lower Bound = Q1 - 1.5 × IQRU ,pper Bound = Q3 + 1.5 × IQR,Any values outside this range are considered outliers.\n",
    "print(iqr)"
   ]
  },
  {
   "cell_type": "code",
   "execution_count": null,
   "id": "9c8e6ede-a7e8-4a13-bccc-2147ac0d0e4e",
   "metadata": {},
   "outputs": [],
   "source": [
    "import matplot.pyplot as plt\n"
   ]
  }
 ],
 "metadata": {
  "kernelspec": {
   "display_name": "Python 3 (ipykernel)",
   "language": "python",
   "name": "python3"
  },
  "language_info": {
   "codemirror_mode": {
    "name": "ipython",
    "version": 3
   },
   "file_extension": ".py",
   "mimetype": "text/x-python",
   "name": "python",
   "nbconvert_exporter": "python",
   "pygments_lexer": "ipython3",
   "version": "3.10.10"
  }
 },
 "nbformat": 4,
 "nbformat_minor": 5
}
