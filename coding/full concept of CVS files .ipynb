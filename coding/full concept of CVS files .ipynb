{
 "cells": [
  {
   "cell_type": "code",
   "execution_count": 6,
   "id": "8e078fd6-fe97-4c19-8f5d-3614acd2821d",
   "metadata": {},
   "outputs": [
    {
     "name": "stdout",
     "output_type": "stream",
     "text": [
      "   Sales  CompPrice  Income  Advertising  Population\n",
      "0   9.50        138      73           11         276\n",
      "1  11.22        111      48           16         260\n",
      "2  10.06        113      35           10         269\n",
      "3   7.40        117     100            4         466\n",
      "4   4.15        141      64            3         340\n",
      "    Sales  CompPrice  Income  Advertising  Population\n",
      "14  11.17        107     117           11         148\n",
      "15   8.71        149      95            5         400\n",
      "16   7.58        118      32            0         284\n",
      "17  12.29        147      74           13         251\n",
      "18  13.91        110     110            0         408\n"
     ]
    }
   ],
   "source": [
    "import pandas as pd\n",
    "\n",
    "# Load dataset and assign to df\n",
    "df = pd.read_csv(\"data.csv\")\n",
    "\n",
    "# Display first few rows\n",
    "print(df.head()) # first 5 is default will appear we can change the valuse \n",
    "print(df.tail())\n",
    "# last  5 is default will appear we can change the valuse\n"
   ]
  },
  {
   "cell_type": "code",
   "execution_count": 7,
   "id": "5ce2e3d8-a9a4-4f32-9030-956ea97a4fd2",
   "metadata": {},
   "outputs": [
    {
     "name": "stdout",
     "output_type": "stream",
     "text": [
      "   Sales  CompPrice  Income  Advertising  Population\n",
      "0   9.50        138      73           11         276\n",
      "1  11.22        111      48           16         260\n",
      "2  10.06        113      35           10         269\n",
      "3   7.40        117     100            4         466\n",
      "4   4.15        141      64            3         340\n",
      "5  10.81        124     113           13         501\n",
      "6   6.63        115     105            0          45\n",
      "7  11.85        136      81           15         425\n",
      "8   6.54        132     110            0         108\n",
      "9   4.69        132     113            0         131\n",
      "    Sales  CompPrice  Income  Advertising  Population\n",
      "9    4.69        132     113            0         131\n",
      "10   9.01        121      78            9         150\n",
      "11  11.96        117      94            4         503\n",
      "12   3.98        122      35            2         393\n",
      "13  10.96        115      28           11          29\n",
      "14  11.17        107     117           11         148\n",
      "15   8.71        149      95            5         400\n",
      "16   7.58        118      32            0         284\n",
      "17  12.29        147      74           13         251\n",
      "18  13.91        110     110            0         408\n"
     ]
    }
   ],
   "source": [
    "print(df.head(10))\n",
    "print(df.tail(10))  "
   ]
  },
  {
   "cell_type": "raw",
   "id": "cdb6e728-5020-4ebe-9f4b-4f476fd1e487",
   "metadata": {},
   "source": []
  },
  {
   "cell_type": "code",
   "execution_count": 8,
   "id": "12338187-74f6-40b6-be7c-5cba24602c9c",
   "metadata": {},
   "outputs": [
    {
     "data": {
      "text/plain": [
       "(19, 5)"
      ]
     },
     "execution_count": 8,
     "metadata": {},
     "output_type": "execute_result"
    }
   ],
   "source": [
    "df.shape #show the number of rows and column"
   ]
  },
  {
   "cell_type": "code",
   "execution_count": 9,
   "id": "f6f80959-d553-433e-aa47-d9c8d043e47e",
   "metadata": {},
   "outputs": [
    {
     "data": {
      "text/plain": [
       "<bound method DataFrame.info of     Sales  CompPrice  Income  Advertising  Population\n",
       "0    9.50        138      73           11         276\n",
       "1   11.22        111      48           16         260\n",
       "2   10.06        113      35           10         269\n",
       "3    7.40        117     100            4         466\n",
       "4    4.15        141      64            3         340\n",
       "5   10.81        124     113           13         501\n",
       "6    6.63        115     105            0          45\n",
       "7   11.85        136      81           15         425\n",
       "8    6.54        132     110            0         108\n",
       "9    4.69        132     113            0         131\n",
       "10   9.01        121      78            9         150\n",
       "11  11.96        117      94            4         503\n",
       "12   3.98        122      35            2         393\n",
       "13  10.96        115      28           11          29\n",
       "14  11.17        107     117           11         148\n",
       "15   8.71        149      95            5         400\n",
       "16   7.58        118      32            0         284\n",
       "17  12.29        147      74           13         251\n",
       "18  13.91        110     110            0         408>"
      ]
     },
     "execution_count": 9,
     "metadata": {},
     "output_type": "execute_result"
    }
   ],
   "source": [
    "df.info # show entire dataset"
   ]
  },
  {
   "cell_type": "code",
   "execution_count": 11,
   "id": "f592a1de-a7e2-41f0-b390-771e73be21f6",
   "metadata": {},
   "outputs": [
    {
     "data": {
      "text/html": [
       "<div>\n",
       "<style scoped>\n",
       "    .dataframe tbody tr th:only-of-type {\n",
       "        vertical-align: middle;\n",
       "    }\n",
       "\n",
       "    .dataframe tbody tr th {\n",
       "        vertical-align: top;\n",
       "    }\n",
       "\n",
       "    .dataframe thead th {\n",
       "        text-align: right;\n",
       "    }\n",
       "</style>\n",
       "<table border=\"1\" class=\"dataframe\">\n",
       "  <thead>\n",
       "    <tr style=\"text-align: right;\">\n",
       "      <th></th>\n",
       "      <th>Sales</th>\n",
       "      <th>CompPrice</th>\n",
       "      <th>Income</th>\n",
       "      <th>Advertising</th>\n",
       "      <th>Population</th>\n",
       "    </tr>\n",
       "  </thead>\n",
       "  <tbody>\n",
       "    <tr>\n",
       "      <th>0</th>\n",
       "      <td>False</td>\n",
       "      <td>False</td>\n",
       "      <td>False</td>\n",
       "      <td>False</td>\n",
       "      <td>False</td>\n",
       "    </tr>\n",
       "    <tr>\n",
       "      <th>1</th>\n",
       "      <td>False</td>\n",
       "      <td>False</td>\n",
       "      <td>False</td>\n",
       "      <td>False</td>\n",
       "      <td>False</td>\n",
       "    </tr>\n",
       "    <tr>\n",
       "      <th>2</th>\n",
       "      <td>False</td>\n",
       "      <td>False</td>\n",
       "      <td>False</td>\n",
       "      <td>False</td>\n",
       "      <td>False</td>\n",
       "    </tr>\n",
       "    <tr>\n",
       "      <th>3</th>\n",
       "      <td>False</td>\n",
       "      <td>False</td>\n",
       "      <td>False</td>\n",
       "      <td>False</td>\n",
       "      <td>False</td>\n",
       "    </tr>\n",
       "    <tr>\n",
       "      <th>4</th>\n",
       "      <td>False</td>\n",
       "      <td>False</td>\n",
       "      <td>False</td>\n",
       "      <td>False</td>\n",
       "      <td>False</td>\n",
       "    </tr>\n",
       "    <tr>\n",
       "      <th>5</th>\n",
       "      <td>False</td>\n",
       "      <td>False</td>\n",
       "      <td>False</td>\n",
       "      <td>False</td>\n",
       "      <td>False</td>\n",
       "    </tr>\n",
       "    <tr>\n",
       "      <th>6</th>\n",
       "      <td>False</td>\n",
       "      <td>False</td>\n",
       "      <td>False</td>\n",
       "      <td>False</td>\n",
       "      <td>False</td>\n",
       "    </tr>\n",
       "    <tr>\n",
       "      <th>7</th>\n",
       "      <td>False</td>\n",
       "      <td>False</td>\n",
       "      <td>False</td>\n",
       "      <td>False</td>\n",
       "      <td>False</td>\n",
       "    </tr>\n",
       "    <tr>\n",
       "      <th>8</th>\n",
       "      <td>False</td>\n",
       "      <td>False</td>\n",
       "      <td>False</td>\n",
       "      <td>False</td>\n",
       "      <td>False</td>\n",
       "    </tr>\n",
       "    <tr>\n",
       "      <th>9</th>\n",
       "      <td>False</td>\n",
       "      <td>False</td>\n",
       "      <td>False</td>\n",
       "      <td>False</td>\n",
       "      <td>False</td>\n",
       "    </tr>\n",
       "    <tr>\n",
       "      <th>10</th>\n",
       "      <td>False</td>\n",
       "      <td>False</td>\n",
       "      <td>False</td>\n",
       "      <td>False</td>\n",
       "      <td>False</td>\n",
       "    </tr>\n",
       "    <tr>\n",
       "      <th>11</th>\n",
       "      <td>False</td>\n",
       "      <td>False</td>\n",
       "      <td>False</td>\n",
       "      <td>False</td>\n",
       "      <td>False</td>\n",
       "    </tr>\n",
       "    <tr>\n",
       "      <th>12</th>\n",
       "      <td>False</td>\n",
       "      <td>False</td>\n",
       "      <td>False</td>\n",
       "      <td>False</td>\n",
       "      <td>False</td>\n",
       "    </tr>\n",
       "    <tr>\n",
       "      <th>13</th>\n",
       "      <td>False</td>\n",
       "      <td>False</td>\n",
       "      <td>False</td>\n",
       "      <td>False</td>\n",
       "      <td>False</td>\n",
       "    </tr>\n",
       "    <tr>\n",
       "      <th>14</th>\n",
       "      <td>False</td>\n",
       "      <td>False</td>\n",
       "      <td>False</td>\n",
       "      <td>False</td>\n",
       "      <td>False</td>\n",
       "    </tr>\n",
       "    <tr>\n",
       "      <th>15</th>\n",
       "      <td>False</td>\n",
       "      <td>False</td>\n",
       "      <td>False</td>\n",
       "      <td>False</td>\n",
       "      <td>False</td>\n",
       "    </tr>\n",
       "    <tr>\n",
       "      <th>16</th>\n",
       "      <td>False</td>\n",
       "      <td>False</td>\n",
       "      <td>False</td>\n",
       "      <td>False</td>\n",
       "      <td>False</td>\n",
       "    </tr>\n",
       "    <tr>\n",
       "      <th>17</th>\n",
       "      <td>False</td>\n",
       "      <td>False</td>\n",
       "      <td>False</td>\n",
       "      <td>False</td>\n",
       "      <td>False</td>\n",
       "    </tr>\n",
       "    <tr>\n",
       "      <th>18</th>\n",
       "      <td>False</td>\n",
       "      <td>False</td>\n",
       "      <td>False</td>\n",
       "      <td>False</td>\n",
       "      <td>False</td>\n",
       "    </tr>\n",
       "  </tbody>\n",
       "</table>\n",
       "</div>"
      ],
      "text/plain": [
       "    Sales  CompPrice  Income  Advertising  Population\n",
       "0   False      False   False        False       False\n",
       "1   False      False   False        False       False\n",
       "2   False      False   False        False       False\n",
       "3   False      False   False        False       False\n",
       "4   False      False   False        False       False\n",
       "5   False      False   False        False       False\n",
       "6   False      False   False        False       False\n",
       "7   False      False   False        False       False\n",
       "8   False      False   False        False       False\n",
       "9   False      False   False        False       False\n",
       "10  False      False   False        False       False\n",
       "11  False      False   False        False       False\n",
       "12  False      False   False        False       False\n",
       "13  False      False   False        False       False\n",
       "14  False      False   False        False       False\n",
       "15  False      False   False        False       False\n",
       "16  False      False   False        False       False\n",
       "17  False      False   False        False       False\n",
       "18  False      False   False        False       False"
      ]
     },
     "execution_count": 11,
     "metadata": {},
     "output_type": "execute_result"
    }
   ],
   "source": [
    "df.isnull() #it will show True if any null value is occur or show false"
   ]
  },
  {
   "cell_type": "code",
   "execution_count": 10,
   "id": "39f5ffdf-a057-40d0-a6e6-f350084c8ce8",
   "metadata": {},
   "outputs": [
    {
     "data": {
      "text/plain": [
       "Sales          0\n",
       "CompPrice      0\n",
       "Income         0\n",
       "Advertising    0\n",
       "Population     0\n",
       "dtype: int64"
      ]
     },
     "execution_count": 10,
     "metadata": {},
     "output_type": "execute_result"
    }
   ],
   "source": [
    "df.isnull().sum() #show totally "
   ]
  },
  {
   "cell_type": "code",
   "execution_count": 11,
   "id": "102e92b9-f6da-46ba-806a-00dd0f0c152f",
   "metadata": {},
   "outputs": [
    {
     "data": {
      "text/plain": [
       "Sales          0.0\n",
       "CompPrice      0.0\n",
       "Income         0.0\n",
       "Advertising    0.0\n",
       "Population     0.0\n",
       "dtype: float64"
      ]
     },
     "execution_count": 11,
     "metadata": {},
     "output_type": "execute_result"
    }
   ],
   "source": [
    "df.isnull().sum()/df.shape[0]*100  # it will show how many null values in the percentage "
   ]
  },
  {
   "cell_type": "code",
   "execution_count": 12,
   "id": "4af32fe3-8c82-4d59-9a60-eb348e5d4f57",
   "metadata": {},
   "outputs": [
    {
     "data": {
      "text/plain": [
       "0     False\n",
       "1     False\n",
       "2     False\n",
       "3     False\n",
       "4     False\n",
       "5     False\n",
       "6     False\n",
       "7     False\n",
       "8     False\n",
       "9     False\n",
       "10    False\n",
       "11    False\n",
       "12    False\n",
       "13    False\n",
       "14    False\n",
       "15    False\n",
       "16    False\n",
       "17    False\n",
       "18    False\n",
       "dtype: bool"
      ]
     },
     "execution_count": 12,
     "metadata": {},
     "output_type": "execute_result"
    }
   ],
   "source": [
    "df.duplicated() # show any duplicate valuse "
   ]
  },
  {
   "cell_type": "code",
   "execution_count": 15,
   "id": "fbff7058-8f6a-42ca-b53c-573df2a81842",
   "metadata": {},
   "outputs": [
    {
     "data": {
      "text/plain": [
       "np.int64(0)"
      ]
     },
     "execution_count": 15,
     "metadata": {},
     "output_type": "execute_result"
    }
   ],
   "source": [
    "df.duplicated().sum() #it will show calculate all the duplicate vlaues"
   ]
  },
  {
   "cell_type": "code",
   "execution_count": 13,
   "id": "56581922-1381-4444-a33e-a9b9bcafc17a",
   "metadata": {},
   "outputs": [
    {
     "name": "stdout",
     "output_type": "stream",
     "text": [
      "    Sales  CompPrice  Advertising  Population\n",
      "0    9.50        138           11         276\n",
      "1   11.22        111           16         260\n",
      "2   10.06        113           10         269\n",
      "3    7.40        117            4         466\n",
      "4    4.15        141            3         340\n",
      "5   10.81        124           13         501\n",
      "6    6.63        115            0          45\n",
      "7   11.85        136           15         425\n",
      "8    6.54        132            0         108\n",
      "9    4.69        132            0         131\n",
      "10   9.01        121            9         150\n",
      "11  11.96        117            4         503\n",
      "12   3.98        122            2         393\n",
      "13  10.96        115           11          29\n",
      "14  11.17        107           11         148\n",
      "15   8.71        149            5         400\n",
      "16   7.58        118            0         284\n",
      "17  12.29        147           13         251\n",
      "18  13.91        110            0         408\n"
     ]
    }
   ],
   "source": [
    " age=df.drop(columns=['Income']) # it will remove the particular  column \n",
    "print(age)"
   ]
  },
  {
   "cell_type": "code",
   "execution_count": 18,
   "id": "592c8df6-126d-4ad4-a634-3054021f5043",
   "metadata": {},
   "outputs": [
    {
     "name": "stdout",
     "output_type": "stream",
     "text": [
      "    Sales  CompPrice  Income  Advertising  Population\n",
      "0    9.50        138      73           11         276\n",
      "1   11.22        111      48           16         260\n",
      "2   10.06        113      35           10         269\n",
      "3    7.40        117     100            4         466\n",
      "4    4.15        141      64            3         340\n",
      "5   10.81        124     113           13         501\n",
      "6    6.63        115     105            0          45\n",
      "7   11.85        136      81           15         425\n",
      "8    6.54        132     110            0         108\n",
      "9    4.69        132     113            0         131\n",
      "10   9.01        121      78            9         150\n",
      "11  11.96        117      94            4         503\n",
      "12   3.98        122      35            2         393\n",
      "13  10.96        115      28           11          29\n",
      "14  11.17        107     117           11         148\n",
      "15   8.71        149      95            5         400\n",
      "16   7.58        118      32            0         284\n",
      "17  12.29        147      74           13         251\n",
      "18  13.91        110     110            0         408\n"
     ]
    }
   ],
   "source": [
    "name=df.dropna(subset=['Sales']) # it will remove the particular  column \n",
    "print(name)"
   ]
  },
  {
   "cell_type": "code",
   "execution_count": 19,
   "id": "51eb0bc7-2e74-4994-9e75-4ccd09f0f37b",
   "metadata": {},
   "outputs": [
    {
     "name": "stdout",
     "output_type": "stream",
     "text": [
      "<class 'pandas.core.frame.DataFrame'>\n",
      "RangeIndex: 19 entries, 0 to 18\n",
      "Data columns (total 4 columns):\n",
      " #   Column       Non-Null Count  Dtype  \n",
      "---  ------       --------------  -----  \n",
      " 0   Sales        19 non-null     float64\n",
      " 1   CompPrice    19 non-null     int64  \n",
      " 2   Advertising  19 non-null     int64  \n",
      " 3   Population   19 non-null     int64  \n",
      "dtypes: float64(1), int64(3)\n",
      "memory usage: 736.0 bytes\n"
     ]
    }
   ],
   "source": [
    "age.info()"
   ]
  },
  {
   "cell_type": "code",
   "execution_count": 20,
   "id": "428c0849-4f5d-4c2b-9c65-91e7ab1ce67b",
   "metadata": {},
   "outputs": [
    {
     "name": "stdout",
     "output_type": "stream",
     "text": [
      "<class 'pandas.core.frame.DataFrame'>\n",
      "RangeIndex: 19 entries, 0 to 18\n",
      "Data columns (total 5 columns):\n",
      " #   Column       Non-Null Count  Dtype  \n",
      "---  ------       --------------  -----  \n",
      " 0   Sales        19 non-null     float64\n",
      " 1   CompPrice    19 non-null     int64  \n",
      " 2   Income       19 non-null     int64  \n",
      " 3   Advertising  19 non-null     int64  \n",
      " 4   Population   19 non-null     int64  \n",
      "dtypes: float64(1), int64(4)\n",
      "memory usage: 888.0 bytes\n"
     ]
    }
   ],
   "source": [
    "name.info()"
   ]
  },
  {
   "cell_type": "code",
   "execution_count": 23,
   "id": "c5d60d89-12de-4b4d-bcf8-7cc4f51a8a95",
   "metadata": {},
   "outputs": [
    {
     "name": "stdout",
     "output_type": "stream",
     "text": [
      "    Sales  CompPrice  Income  Advertising  Population\n",
      "0    9.50        138      73           11         276\n",
      "1   11.22        111      48           16         260\n",
      "2   10.06        113      35           10         269\n",
      "3    7.40        117     100            4         466\n",
      "4    4.15        141      64            3         340\n",
      "5   10.81        124     113           13         501\n",
      "6    6.63        115     105            0          45\n",
      "7   11.85        136      81           15         425\n",
      "8    6.54        132     110            0         108\n",
      "9    4.69        132     113            0         131\n",
      "10   9.01        121      78            9         150\n",
      "11  11.96        117      94            4         503\n",
      "12   3.98        122      35            2         393\n",
      "13  10.96        115      28           11          29\n",
      "14  11.17        107     117           11         148\n",
      "15   8.71        149      95            5         400\n",
      "16   7.58        118      32            0         284\n",
      "17  12.29        147      74           13         251\n",
      "18  13.91        110     110            0         408\n"
     ]
    }
   ],
   "source": [
    "from scipy import stats\n",
    "import numpy as np\n",
    "df = df[(np.abs(stats.zscore(df['Income'])) < 3)]  \n",
    "# z score value if value must between -3 to 3 if it above from -3 or 3 it will detect as outlier \n",
    "print(df)"
   ]
  },
  {
   "cell_type": "code",
   "execution_count": 25,
   "id": "f4396a6c-22db-46c8-8494-73b380676de6",
   "metadata": {},
   "outputs": [
    {
     "name": "stdout",
     "output_type": "stream",
     "text": [
      "    Sales  CompPrice  Income  Advertising  Population\n",
      "0    9.50        138      73           11           9\n",
      "1   11.22        111      48           16           7\n",
      "2   10.06        113      35           10           8\n",
      "3    7.40        117     100            4          16\n",
      "4    4.15        141      64            3          11\n",
      "5   10.81        124     113           13          17\n",
      "6    6.63        115     105            0           1\n",
      "7   11.85        136      81           15          15\n",
      "8    6.54        132     110            0           2\n",
      "9    4.69        132     113            0           3\n",
      "10   9.01        121      78            9           5\n",
      "11  11.96        117      94            4          18\n",
      "12   3.98        122      35            2          12\n",
      "13  10.96        115      28           11           0\n",
      "14  11.17        107     117           11           4\n",
      "15   8.71        149      95            5          13\n",
      "16   7.58        118      32            0          10\n",
      "17  12.29        147      74           13           6\n",
      "18  13.91        110     110            0          14\n"
     ]
    }
   ],
   "source": [
    "from sklearn.preprocessing import LabelEncoder\n",
    "encoder = LabelEncoder()\n",
    "df['Population'] = encoder.fit_transform(df['Population']) # we use label encoder to arrange the \n",
    "#values based on the alphbatic or what will come first \n",
    "print(df)"
   ]
  },
  {
   "cell_type": "code",
   "execution_count": null,
   "id": "329f8ea5-672c-4254-a950-bf0a123fa2a9",
   "metadata": {},
   "outputs": [],
   "source": []
  }
 ],
 "metadata": {
  "kernelspec": {
   "display_name": "Python 3 (ipykernel)",
   "language": "python",
   "name": "python3"
  },
  "language_info": {
   "codemirror_mode": {
    "name": "ipython",
    "version": 3
   },
   "file_extension": ".py",
   "mimetype": "text/x-python",
   "name": "python",
   "nbconvert_exporter": "python",
   "pygments_lexer": "ipython3",
   "version": "3.10.10"
  }
 },
 "nbformat": 4,
 "nbformat_minor": 5
}
