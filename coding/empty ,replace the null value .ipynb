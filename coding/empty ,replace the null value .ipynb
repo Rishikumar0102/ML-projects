{
 "cells": [
  {
   "cell_type": "code",
   "execution_count": 1,
   "id": "a3ffbd60-ad25-4524-842f-eb65296cc08d",
   "metadata": {},
   "outputs": [
    {
     "name": "stdout",
     "output_type": "stream",
     "text": [
      "   Sales  CompPrice  Income\n",
      "0   9.50      138.0    73.0\n",
      "1  11.22      111.0    48.0\n",
      "2  10.06      113.0   100.0\n",
      "3   7.40        NaN   100.0\n",
      "4   4.15      141.0    64.0\n",
      "   Sales  CompPrice  Income\n",
      "4   4.15      141.0    64.0\n",
      "5  10.81      124.0     NaN\n",
      "6  10.81        NaN   105.0\n",
      "7  11.85      136.0    81.0\n",
      "8   6.54      132.0   110.0\n"
     ]
    }
   ],
   "source": [
    "import pandas as pd\n",
    "\n",
    "# Load dataset and assign to df\n",
    "df = pd.read_csv(\"name.csv\")\n",
    "\n",
    "# Display first few rows\n",
    "print(df.head()) # first 5 is default will appear we can change the valuse \n",
    "print(df.tail())"
   ]
  },
  {
   "cell_type": "code",
   "execution_count": 2,
   "id": "689ced01-70cf-41ff-99be-ec9a49aa15db",
   "metadata": {},
   "outputs": [
    {
     "name": "stdout",
     "output_type": "stream",
     "text": [
      "   Sales  CompPrice  Income\n",
      "0   9.50      138.0    73.0\n",
      "1  11.22      111.0    48.0\n",
      "2  10.06      113.0   100.0\n",
      "3   7.40      132.0   100.0\n",
      "4   4.15      141.0    64.0\n",
      "5  10.81      124.0     NaN\n",
      "6  10.81      132.0   105.0\n",
      "7  11.85      136.0    81.0\n",
      "8   6.54      132.0   110.0\n"
     ]
    },
    {
     "name": "stderr",
     "output_type": "stream",
     "text": [
      "C:\\Users\\student\\AppData\\Local\\Temp\\ipykernel_19556\\875491997.py:1: FutureWarning: A value is trying to be set on a copy of a DataFrame or Series through chained assignment using an inplace method.\n",
      "The behavior will change in pandas 3.0. This inplace method will never work because the intermediate object on which we are setting values always behaves as a copy.\n",
      "\n",
      "For example, when doing 'df[col].method(value, inplace=True)', try using 'df.method({col: value}, inplace=True)' or df[col] = df[col].method(value) instead, to perform the operation inplace on the original object.\n",
      "\n",
      "\n",
      "  df ['CompPrice'].fillna(df['CompPrice'].median(),inplace=True) #it will replace the null are with mean\n"
     ]
    }
   ],
   "source": [
    "df ['CompPrice'].fillna(df['CompPrice'].median(),inplace=True) #it will replace the null are with mean  \n",
    "print(df)"
   ]
  },
  {
   "cell_type": "code",
   "execution_count": 3,
   "id": "7d4ab414-53a6-450b-9fb0-0e6751587887",
   "metadata": {},
   "outputs": [
    {
     "name": "stdout",
     "output_type": "stream",
     "text": [
      "   Sales  CompPrice Income\n",
      "0   9.50      138.0   73.0\n",
      "1  11.22      111.0   48.0\n",
      "2  10.06      113.0  100.0\n",
      "3   7.40      132.0  100.0\n",
      "4   4.15      141.0   64.0\n",
      "5  10.81      124.0   0000\n",
      "6  10.81      132.0  105.0\n",
      "7  11.85      136.0   81.0\n",
      "8   6.54      132.0  110.0\n"
     ]
    },
    {
     "name": "stderr",
     "output_type": "stream",
     "text": [
      "C:\\Users\\student\\AppData\\Local\\Temp\\ipykernel_19556\\82127345.py:1: FutureWarning: A value is trying to be set on a copy of a DataFrame or Series through chained assignment using an inplace method.\n",
      "The behavior will change in pandas 3.0. This inplace method will never work because the intermediate object on which we are setting values always behaves as a copy.\n",
      "\n",
      "For example, when doing 'df[col].method(value, inplace=True)', try using 'df.method({col: value}, inplace=True)' or df[col] = df[col].method(value) instead, to perform the operation inplace on the original object.\n",
      "\n",
      "\n",
      "  df ['Income'].fillna('0000',inplace=True)\n",
      "C:\\Users\\student\\AppData\\Local\\Temp\\ipykernel_19556\\82127345.py:1: FutureWarning: Setting an item of incompatible dtype is deprecated and will raise an error in a future version of pandas. Value '0000' has dtype incompatible with float64, please explicitly cast to a compatible dtype first.\n",
      "  df ['Income'].fillna('0000',inplace=True)\n"
     ]
    }
   ],
   "source": [
    "df ['Income'].fillna('0000',inplace=True)\n",
    "print(df)"
   ]
  },
  {
   "cell_type": "code",
   "execution_count": 8,
   "id": "4b8a964a-615b-476a-8b62-32c48cd4e33b",
   "metadata": {},
   "outputs": [
    {
     "data": {
      "text/html": [
       "<div>\n",
       "<style scoped>\n",
       "    .dataframe tbody tr th:only-of-type {\n",
       "        vertical-align: middle;\n",
       "    }\n",
       "\n",
       "    .dataframe tbody tr th {\n",
       "        vertical-align: top;\n",
       "    }\n",
       "\n",
       "    .dataframe thead th {\n",
       "        text-align: right;\n",
       "    }\n",
       "</style>\n",
       "<table border=\"1\" class=\"dataframe\">\n",
       "  <thead>\n",
       "    <tr style=\"text-align: right;\">\n",
       "      <th></th>\n",
       "      <th>Sales</th>\n",
       "      <th>CompPrice</th>\n",
       "      <th>Income</th>\n",
       "    </tr>\n",
       "  </thead>\n",
       "  <tbody>\n",
       "    <tr>\n",
       "      <th>0</th>\n",
       "      <td>9.50</td>\n",
       "      <td>138.000000</td>\n",
       "      <td>73.0</td>\n",
       "    </tr>\n",
       "    <tr>\n",
       "      <th>1</th>\n",
       "      <td>11.22</td>\n",
       "      <td>111.000000</td>\n",
       "      <td>48.0</td>\n",
       "    </tr>\n",
       "    <tr>\n",
       "      <th>2</th>\n",
       "      <td>10.06</td>\n",
       "      <td>113.000000</td>\n",
       "      <td>100.0</td>\n",
       "    </tr>\n",
       "    <tr>\n",
       "      <th>3</th>\n",
       "      <td>7.40</td>\n",
       "      <td>127.857143</td>\n",
       "      <td>100.0</td>\n",
       "    </tr>\n",
       "    <tr>\n",
       "      <th>4</th>\n",
       "      <td>4.15</td>\n",
       "      <td>141.000000</td>\n",
       "      <td>64.0</td>\n",
       "    </tr>\n",
       "    <tr>\n",
       "      <th>5</th>\n",
       "      <td>10.81</td>\n",
       "      <td>124.000000</td>\n",
       "      <td>0000</td>\n",
       "    </tr>\n",
       "    <tr>\n",
       "      <th>6</th>\n",
       "      <td>10.81</td>\n",
       "      <td>127.857143</td>\n",
       "      <td>105.0</td>\n",
       "    </tr>\n",
       "    <tr>\n",
       "      <th>7</th>\n",
       "      <td>11.85</td>\n",
       "      <td>136.000000</td>\n",
       "      <td>81.0</td>\n",
       "    </tr>\n",
       "    <tr>\n",
       "      <th>8</th>\n",
       "      <td>6.54</td>\n",
       "      <td>132.000000</td>\n",
       "      <td>110.0</td>\n",
       "    </tr>\n",
       "  </tbody>\n",
       "</table>\n",
       "</div>"
      ],
      "text/plain": [
       "   Sales   CompPrice Income\n",
       "0   9.50  138.000000   73.0\n",
       "1  11.22  111.000000   48.0\n",
       "2  10.06  113.000000  100.0\n",
       "3   7.40  127.857143  100.0\n",
       "4   4.15  141.000000   64.0\n",
       "5  10.81  124.000000   0000\n",
       "6  10.81  127.857143  105.0\n",
       "7  11.85  136.000000   81.0\n",
       "8   6.54  132.000000  110.0"
      ]
     },
     "execution_count": 8,
     "metadata": {},
     "output_type": "execute_result"
    }
   ],
   "source": [
    "df.drop_duplicates()"
   ]
  },
  {
   "cell_type": "code",
   "execution_count": 5,
   "id": "3732564a-1e9a-48d6-80c8-e998ee11d24f",
   "metadata": {},
   "outputs": [
    {
     "name": "stdout",
     "output_type": "stream",
     "text": [
      "<class 'pandas.core.series.Series'>\n",
      "RangeIndex: 9 entries, 0 to 8\n",
      "Series name: None\n",
      "Non-Null Count  Dtype\n",
      "--------------  -----\n",
      "9 non-null      bool \n",
      "dtypes: bool(1)\n",
      "memory usage: 137.0 bytes\n",
      "   Sales  CompPrice Income\n",
      "0   9.50      138.0   73.0\n",
      "1  11.22      111.0   48.0\n",
      "2  10.06      113.0  100.0\n",
      "3   7.40      132.0  100.0\n",
      "4   4.15      141.0   64.0\n",
      "5  10.81      124.0   0000\n",
      "6  10.81      132.0  105.0\n",
      "7  11.85      136.0   81.0\n",
      "8   6.54      132.0  110.0\n"
     ]
    }
   ],
   "source": [
    "df.duplicated().info()\n",
    "print(df)"
   ]
  },
  {
   "cell_type": "code",
   "execution_count": 6,
   "id": "26347dac-0461-4e02-9998-a9e8cee37747",
   "metadata": {},
   "outputs": [
    {
     "ename": "TypeError",
     "evalue": "DataFrame.drop_duplicates() got an unexpected keyword argument 'column'",
     "output_type": "error",
     "traceback": [
      "\u001b[1;31m---------------------------------------------------------------------------\u001b[0m",
      "\u001b[1;31mTypeError\u001b[0m                                 Traceback (most recent call last)",
      "Cell \u001b[1;32mIn[6], line 1\u001b[0m\n\u001b[1;32m----> 1\u001b[0m \u001b[43mdf\u001b[49m\u001b[38;5;241;43m.\u001b[39;49m\u001b[43mdrop_duplicates\u001b[49m\u001b[43m(\u001b[49m\u001b[43mcolumn\u001b[49m\u001b[38;5;241;43m=\u001b[39;49m\u001b[43m[\u001b[49m\u001b[38;5;124;43m'\u001b[39;49m\u001b[38;5;124;43mIncome\u001b[39;49m\u001b[38;5;124;43m'\u001b[39;49m\u001b[43m]\u001b[49m\u001b[43m)\u001b[49m\n",
      "\u001b[1;31mTypeError\u001b[0m: DataFrame.drop_duplicates() got an unexpected keyword argument 'column'"
     ]
    }
   ],
   "source": [
    "df.drop_duplicates(column=['Income'])"
   ]
  },
  {
   "cell_type": "code",
   "execution_count": 8,
   "id": "f75d0351-53cf-4fc9-9aeb-5bda9407a7d2",
   "metadata": {},
   "outputs": [
    {
     "name": "stdout",
     "output_type": "stream",
     "text": [
      "\n",
      "After Removing Duplicates Based on Specific Column:\n",
      "<class 'pandas.core.frame.DataFrame'>\n",
      "Index: 8 entries, 0 to 8\n",
      "Data columns (total 3 columns):\n",
      " #   Column     Non-Null Count  Dtype  \n",
      "---  ------     --------------  -----  \n",
      " 0   Sales      8 non-null      float64\n",
      " 1   CompPrice  8 non-null      float64\n",
      " 2   Income     8 non-null      object \n",
      "dtypes: float64(2), object(1)\n",
      "memory usage: 256.0+ bytes\n",
      "None\n",
      "   Sales  CompPrice Income\n",
      "0   9.50      138.0   73.0\n",
      "1  11.22      111.0   48.0\n",
      "2  10.06      113.0  100.0\n",
      "3   7.40      132.0  100.0\n",
      "4   4.15      141.0   64.0\n",
      "5  10.81      124.0   0000\n",
      "6  10.81      132.0  105.0\n",
      "7  11.85      136.0   81.0\n",
      "8   6.54      132.0  110.0\n"
     ]
    }
   ],
   "source": [
    "df_no_duplicates = df.drop_duplicates(subset=['Income'], keep='100') \n",
    "print(\"\\nAfter Removing Duplicates Based on Specific Column:\")\n",
    "print(df_no_duplicates.info())\n",
    "print(df)\n"
   ]
  },
  {
   "cell_type": "code",
   "execution_count": 15,
   "id": "7c53fcac-08c5-4ca5-8c9b-977aec460746",
   "metadata": {},
   "outputs": [
    {
     "ename": "NameError",
     "evalue": "name 'num_cols' is not defined",
     "output_type": "error",
     "traceback": [
      "\u001b[1;31m---------------------------------------------------------------------------\u001b[0m",
      "\u001b[1;31mNameError\u001b[0m                                 Traceback (most recent call last)",
      "Cell \u001b[1;32mIn[15], line 4\u001b[0m\n\u001b[0;32m      1\u001b[0m \u001b[38;5;28;01mimport\u001b[39;00m\u001b[38;5;250m \u001b[39m\u001b[38;5;21;01mnumpy\u001b[39;00m\u001b[38;5;250m \u001b[39m\u001b[38;5;28;01mas\u001b[39;00m\u001b[38;5;250m \u001b[39m\u001b[38;5;21;01mnp\u001b[39;00m\n\u001b[0;32m      3\u001b[0m \u001b[38;5;66;03m# Compute Q1 & Q3\u001b[39;00m\n\u001b[1;32m----> 4\u001b[0m Q1 \u001b[38;5;241m=\u001b[39m df[\u001b[43mnum_cols\u001b[49m]\u001b[38;5;241m.\u001b[39mquantile(\u001b[38;5;241m0.25\u001b[39m)  \u001b[38;5;66;03m# First quartile (25%)\u001b[39;00m\n\u001b[0;32m      5\u001b[0m Q3 \u001b[38;5;241m=\u001b[39m df[num_cols]\u001b[38;5;241m.\u001b[39mquantile(\u001b[38;5;241m0.75\u001b[39m)  \u001b[38;5;66;03m# Third quartile (75%)\u001b[39;00m\n\u001b[0;32m      6\u001b[0m IQR \u001b[38;5;241m=\u001b[39m Q3 \u001b[38;5;241m-\u001b[39m Q1  \u001b[38;5;66;03m# Interquartile Range\u001b[39;00m\n",
      "\u001b[1;31mNameError\u001b[0m: name 'num_cols' is not defined"
     ]
    }
   ],
   "source": []
  },
  {
   "cell_type": "code",
   "execution_count": null,
   "id": "4df2369e-3a2d-401a-a935-b149ef6ed951",
   "metadata": {},
   "outputs": [],
   "source": []
  }
 ],
 "metadata": {
  "kernelspec": {
   "display_name": "Python 3 (ipykernel)",
   "language": "python",
   "name": "python3"
  },
  "language_info": {
   "codemirror_mode": {
    "name": "ipython",
    "version": 3
   },
   "file_extension": ".py",
   "mimetype": "text/x-python",
   "name": "python",
   "nbconvert_exporter": "python",
   "pygments_lexer": "ipython3",
   "version": "3.10.10"
  }
 },
 "nbformat": 4,
 "nbformat_minor": 5
}
