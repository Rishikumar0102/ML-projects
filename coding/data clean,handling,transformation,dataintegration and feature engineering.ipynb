{
 "cells": [
  {
   "cell_type": "code",
   "execution_count": 20,
   "id": "9afdc834-3147-45d6-8b29-0b0c1cb9bd97",
   "metadata": {},
   "outputs": [
    {
     "name": "stdout",
     "output_type": "stream",
     "text": [
      "    Name   Age     City\n",
      "0  Alice  45.0       NY\n",
      "1    Bob  45.0       LA\n",
      "2    bob  35.0    salme\n",
      "3  David  55.0  Chicago\n"
     ]
    },
    {
     "name": "stderr",
     "output_type": "stream",
     "text": [
      "C:\\Users\\student\\AppData\\Local\\Temp\\ipykernel_4464\\3616430354.py:14: FutureWarning: A value is trying to be set on a copy of a DataFrame or Series through chained assignment using an inplace method.\n",
      "The behavior will change in pandas 3.0. This inplace method will never work because the intermediate object on which we are setting values always behaves as a copy.\n",
      "\n",
      "For example, when doing 'df[col].method(value, inplace=True)', try using 'df.method({col: value}, inplace=True)' or df[col] = df[col].method(value) instead, to perform the operation inplace on the original object.\n",
      "\n",
      "\n",
      "  df['Age'].fillna(df['Age'].mean(), inplace=True)  # Fill age with mean\n",
      "C:\\Users\\student\\AppData\\Local\\Temp\\ipykernel_4464\\3616430354.py:15: FutureWarning: A value is trying to be set on a copy of a DataFrame or Series through chained assignment using an inplace method.\n",
      "The behavior will change in pandas 3.0. This inplace method will never work because the intermediate object on which we are setting values always behaves as a copy.\n",
      "\n",
      "For example, when doing 'df[col].method(value, inplace=True)', try using 'df.method({col: value}, inplace=True)' or df[col] = df[col].method(value) instead, to perform the operation inplace on the original object.\n",
      "\n",
      "\n",
      "  df['City'].fillna('salme', inplace=True)  # Fill missing city with 'Unknown'\n"
     ]
    }
   ],
   "source": [
    "import pandas as pd\n",
    "import numpy as np\n",
    "\n",
    "data = {'Name': ['Alice', 'Bob', 'bob', 'David'],\n",
    "        'Age': [45, np.nan, 35,55],\n",
    "        'City': ['NY', 'LA', np.nan, 'Chicago']}\n",
    "\n",
    "df = pd.DataFrame(data)\n",
    "\n",
    "\n",
    "\n",
    "\n",
    "# Filling missing values\n",
    "df['Age'].fillna(df['Age'].mean(), inplace=True)  # Fill age with mean\n",
    "df['City'].fillna('salme', inplace=True)  # Fill missing city with 'Unknown'\n",
    "\n",
    "print(df)\n"
   ]
  },
  {
   "cell_type": "code",
   "execution_count": 22,
   "id": "4ba32722-55eb-4a44-abe6-c2bbf72db197",
   "metadata": {},
   "outputs": [
    {
     "name": "stdout",
     "output_type": "stream",
     "text": [
      "      Name\n",
      "0    Alice\n",
      "1      Bob\n",
      "3  Charlie\n"
     ]
    }
   ],
   "source": [
    "import pandas as pd\n",
    "import numpy as np\n",
    "df = pd.DataFrame({ 'Name': ['Alice', 'Bob', 'Bob', 'Charlie']})\n",
    "df.drop_duplicates(inplace=True)\n",
    "print(df)"
   ]
  },
  {
   "cell_type": "code",
   "execution_count": 29,
   "id": "1b34908a-b68b-4d02-acc0-0f9392def27a",
   "metadata": {},
   "outputs": [
    {
     "name": "stdout",
     "output_type": "stream",
     "text": [
      "        Salary\n",
      "0         3000\n",
      "1         3200\n",
      "2         3100\n",
      "3        50000\n",
      "4         9500\n",
      "5  99999999999\n"
     ]
    }
   ],
   "source": [
    "from scipy import stats\n",
    "\n",
    "df = pd.DataFrame({'Salary': [3000, 3200, 3100, 50000,9500,99999999999]})\n",
    "df = df[(np.abs(stats.zscore(df['Salary'])) < 3)]  # Remove extreme outliers\n",
    "print(df)\n"
   ]
  },
  {
   "cell_type": "code",
   "execution_count": 30,
   "id": "92a356b3-5789-468f-9872-ca731d356235",
   "metadata": {},
   "outputs": [
    {
     "name": "stdout",
     "output_type": "stream",
     "text": [
      "   Category\n",
      "0         2\n",
      "1         0\n",
      "2         1\n"
     ]
    }
   ],
   "source": [
    "from sklearn.preprocessing import LabelEncoder\n",
    "\n",
    "df = pd.DataFrame({'Category': ['Red', 'Blue', 'Green']})\n",
    "encoder = LabelEncoder()\n",
    "df['Category'] = encoder.fit_transform(df['Category'])\n",
    "print(df)\n"
   ]
  },
  {
   "cell_type": "code",
   "execution_count": 32,
   "id": "d5785543-ae7f-493a-a6b0-6d08f5f0db9a",
   "metadata": {},
   "outputs": [
    {
     "name": "stdout",
     "output_type": "stream",
     "text": [
      "  Category  Label_Encoded  Category_Blue  Category_Green  Category_Red\n",
      "0      Red              2            0.0             0.0           1.0\n",
      "1     Blue              0            1.0             0.0           0.0\n",
      "2    Green              1            0.0             1.0           0.0\n",
      "3      Red              2            0.0             0.0           1.0\n",
      "4    Green              1            0.0             1.0           0.0\n",
      "5     Blue              0            1.0             0.0           0.0\n"
     ]
    }
   ],
   "source": [
    "import pandas as pd\n",
    "from sklearn.preprocessing import LabelEncoder, OneHotEncoder\n",
    "\n",
    "# Sample DataFrame\n",
    "df = pd.DataFrame({'Category': ['Red', 'Blue', 'Green', 'Red', 'Green', 'Blue']})\n",
    "\n",
    "# 1️⃣ Label Encoding\n",
    "label_encoder = LabelEncoder()\n",
    "df['Label_Encoded'] = label_encoder.fit_transform(df['Category'])\n",
    "\n",
    "# 2️⃣ One-Hot Encoding using sklearn's OneHotEncoder\n",
    "one_hot_encoder = OneHotEncoder(sparse_output=False)  # sparse=False returns a NumPy array\n",
    "one_hot_encoded = one_hot_encoder.fit_transform(df[['Category']])\n",
    "\n",
    "# Convert One-Hot Encoding result to a DataFrame\n",
    "df_one_hot = pd.DataFrame(one_hot_encoded, columns=one_hot_encoder.get_feature_names_out(['Category']))\n",
    "\n",
    "# 3️⃣ Merging One-Hot Encoded Data with Original DataFrame\n",
    "df_final = pd.concat([df, df_one_hot], axis=1)\n",
    "\n",
    "# Display the final DataFrame\n",
    "print(df_final)\n"
   ]
  },
  {
   "cell_type": "code",
   "execution_count": 35,
   "id": "fe3b94af-5dd9-4b97-9b1f-4f6c255e8402",
   "metadata": {},
   "outputs": [
    {
     "name": "stdout",
     "output_type": "stream",
     "text": [
      "   ID     Name  Purchase  Loyalty_Score\n",
      "0   1    Alice       500       0.416667\n",
      "1   2      Bob       700       0.583333\n",
      "2   3  Charlie      1200       1.000000\n"
     ]
    }
   ],
   "source": [
    "import pandas as pd\n",
    "\n",
    "# Customer details\n",
    "df1 = pd.DataFrame({'ID': [1, 2, 3], 'Name': ['Alice', 'Bob', 'Charlie']})\n",
    "\n",
    "# Transaction details\n",
    "df2 = pd.DataFrame({'ID': [1, 2, 3], 'Purchase': [500, 700, 1200]})\n",
    "\n",
    "# Merge datasets on 'ID'\n",
    "df_merged1 = pd.merge(df1, df2, on='ID')\n",
    "# Feature Engineering: Creating 'Loyalty_Score'\n",
    "df_merged['Loyalty_Score'] = df_merged['Purchase'] / df_merged['Purchase'].max()\n",
    "\n",
    "print(df_merged)\n",
    "\n",
    "\n",
    "\n"
   ]
  },
  {
   "cell_type": "code",
   "execution_count": null,
   "id": "d8c38be4-9a34-44db-987c-9cc4f0bf0a15",
   "metadata": {},
   "outputs": [],
   "source": []
  }
 ],
 "metadata": {
  "kernelspec": {
   "display_name": "Python 3 (ipykernel)",
   "language": "python",
   "name": "python3"
  },
  "language_info": {
   "codemirror_mode": {
    "name": "ipython",
    "version": 3
   },
   "file_extension": ".py",
   "mimetype": "text/x-python",
   "name": "python",
   "nbconvert_exporter": "python",
   "pygments_lexer": "ipython3",
   "version": "3.10.10"
  }
 },
 "nbformat": 4,
 "nbformat_minor": 5
}
