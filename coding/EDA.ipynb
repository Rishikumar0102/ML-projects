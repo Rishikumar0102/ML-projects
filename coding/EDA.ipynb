{
 "cells": [
  {
   "cell_type": "code",
   "execution_count": 5,
   "id": "894180eb-b35d-41b4-af8c-d3ae58ef1ef3",
   "metadata": {},
   "outputs": [
    {
     "name": "stdout",
     "output_type": "stream",
     "text": [
      "25th Percentile: 325.0, 50th Percentile: 500.0, 75th Percentile: 675.0, IQR: 350.0\n",
      "Skewness: 0.2643765666638221, Kurtosis: -0.4040057212552215\n",
      "Variance: 76555.55555555556, Standard Deviation: 276.6867462592951\n",
      "Mean: 510.0, Median: 500.0, Mode: 500\n"
     ]
    }
   ],
   "source": [
    "import pandas as pd\n",
    "import numpy as np\n",
    "from scipy import stats\n",
    "\n",
    "# Sample dataset\n",
    "data = {'Sales': [100, 200, 300, 400, 500, 500, 600, 700, 800, 1000]}\n",
    "df = pd.DataFrame(data)\n",
    "\n",
    "# Compute mean, median, and mode\n",
    "mean_value = df['Sales'].mean()\n",
    "median_value = df['Sales'].median()\n",
    "mode_value = df['Sales'].mode()[0]\n",
    "variance_value = df['Sales'].var()\n",
    "std_dev_value = df['Sales'].std()\n",
    "skewness = df['Sales'].skew()\n",
    "kurtosis = df['Sales'].kurtosis()\n",
    "percentile_25 = np.percentile(df['Sales'], 25)\n",
    "percentile_50 = np.percentile(df['Sales'], 50)  # Median\n",
    "percentile_75 = np.percentile(df['Sales'], 75)\n",
    "iqr = percentile_75 - percentile_25\n",
    "\n",
    "print(f\"25th Percentile: {percentile_25}, 50th Percentile: {percentile_50}, 75th Percentile: {percentile_75}, IQR: {iqr}\")\n",
    "\n",
    "\n",
    "print(f\"Skewness: {skewness}, Kurtosis: {kurtosis}\")\n",
    "\n",
    "\n",
    "print(f\"Variance: {variance_value}, Standard Deviation: {std_dev_value}\")\n",
    "\n",
    "\n",
    "print(f\"Mean: {mean_value}, Median: {median_value}, Mode: {mode_value}\")\n"
   ]
  },
  {
   "cell_type": "code",
   "execution_count": null,
   "id": "38630569-d518-443b-a91d-a917aea336da",
   "metadata": {},
   "outputs": [],
   "source": []
  }
 ],
 "metadata": {
  "kernelspec": {
   "display_name": "Python 3 (ipykernel)",
   "language": "python",
   "name": "python3"
  },
  "language_info": {
   "codemirror_mode": {
    "name": "ipython",
    "version": 3
   },
   "file_extension": ".py",
   "mimetype": "text/x-python",
   "name": "python",
   "nbconvert_exporter": "python",
   "pygments_lexer": "ipython3",
   "version": "3.10.10"
  }
 },
 "nbformat": 4,
 "nbformat_minor": 5
}
